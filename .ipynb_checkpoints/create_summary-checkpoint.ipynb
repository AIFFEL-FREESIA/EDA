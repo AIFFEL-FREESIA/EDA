{
 "cells": [
  {
   "cell_type": "markdown",
   "id": "2f7d4055",
   "metadata": {},
   "source": [
    "# JSON Parsor\n",
    "---"
   ]
  },
  {
   "cell_type": "markdown",
   "id": "6072cf7f",
   "metadata": {
    "tags": []
   },
   "source": [
    "## 1. environment setting\n",
    "---"
   ]
  },
  {
   "cell_type": "markdown",
   "id": "70995b66",
   "metadata": {
    "tags": []
   },
   "source": [
    "### 1. import package"
   ]
  },
  {
   "cell_type": "code",
   "execution_count": 3,
   "id": "b382f174",
   "metadata": {
    "execution": {
     "iopub.execute_input": "2021-05-21T00:06:32.212001Z",
     "iopub.status.busy": "2021-05-21T00:06:32.211721Z",
     "iopub.status.idle": "2021-05-21T00:06:33.527544Z",
     "shell.execute_reply": "2021-05-21T00:06:33.527051Z",
     "shell.execute_reply.started": "2021-05-21T00:06:32.211916Z"
    },
    "tags": []
   },
   "outputs": [
    {
     "ename": "ModuleNotFoundError",
     "evalue": "No module named 'geopandas'",
     "output_type": "error",
     "traceback": [
      "\u001b[0;31m---------------------------------------------------------------------------\u001b[0m",
      "\u001b[0;31mModuleNotFoundError\u001b[0m                       Traceback (most recent call last)",
      "\u001b[0;32m<ipython-input-3-ec8cbd6918ed>\u001b[0m in \u001b[0;36m<module>\u001b[0;34m\u001b[0m\n\u001b[1;32m      4\u001b[0m \u001b[0;32mimport\u001b[0m \u001b[0mfolium\u001b[0m\u001b[0;34m\u001b[0m\u001b[0;34m\u001b[0m\u001b[0m\n\u001b[1;32m      5\u001b[0m \u001b[0;32mimport\u001b[0m \u001b[0mcsv\u001b[0m\u001b[0;34m\u001b[0m\u001b[0;34m\u001b[0m\u001b[0m\n\u001b[0;32m----> 6\u001b[0;31m \u001b[0;32mimport\u001b[0m \u001b[0mgeopandas\u001b[0m \u001b[0;32mas\u001b[0m \u001b[0mgpd\u001b[0m\u001b[0;34m\u001b[0m\u001b[0;34m\u001b[0m\u001b[0m\n\u001b[0m\u001b[1;32m      7\u001b[0m \u001b[0;32mimport\u001b[0m \u001b[0mpandas\u001b[0m \u001b[0;32mas\u001b[0m \u001b[0mpd\u001b[0m\u001b[0;34m\u001b[0m\u001b[0;34m\u001b[0m\u001b[0m\n\u001b[1;32m      8\u001b[0m \u001b[0;32mimport\u001b[0m \u001b[0mmatplotlib\u001b[0m\u001b[0;34m.\u001b[0m\u001b[0mpyplot\u001b[0m \u001b[0;32mas\u001b[0m \u001b[0mplt\u001b[0m\u001b[0;34m\u001b[0m\u001b[0;34m\u001b[0m\u001b[0m\n",
      "\u001b[0;31mModuleNotFoundError\u001b[0m: No module named 'geopandas'"
     ]
    }
   ],
   "source": [
    "import json\n",
    "import os\n",
    "import glob\n",
    "import folium\n",
    "import csv\n",
    "import geopandas as gpd\n",
    "import pandas as pd\n",
    "import matplotlib.pyplot as plt\n",
    "\n",
    "from shapely import wkt\n",
    "from shapely import affinity\n",
    "from tqdm.notebook import tqdm"
   ]
  },
  {
   "cell_type": "markdown",
   "id": "f54ae0f2",
   "metadata": {
    "tags": []
   },
   "source": [
    "### 2. set path"
   ]
  },
  {
   "cell_type": "code",
   "execution_count": null,
   "id": "87ce7d7a",
   "metadata": {
    "execution": {
     "iopub.execute_input": "2021-05-21T00:06:33.528732Z",
     "iopub.status.busy": "2021-05-21T00:06:33.528565Z",
     "iopub.status.idle": "2021-05-21T00:06:33.532557Z",
     "shell.execute_reply": "2021-05-21T00:06:33.532111Z",
     "shell.execute_reply.started": "2021-05-21T00:06:33.528709Z"
    },
    "tags": []
   },
   "outputs": [],
   "source": [
    "BASE_PATH = os.path.join(os.getenv('HOME'), 'workspace/Hackerton') # project folder\n",
    "DATA_PATH = os.path.join(BASE_PATH, 'RSI_OP_NIA_AIHUB') # data folder\n",
    "SAMPLE_GEOJSON_PATH = os.path.join(DATA_PATH, 'buildings/training/label/BLD00001_PS3_K3A_NIA0276.json') # sample geojson file path\n",
    "MERGED_PATH = os.path.join(DATA_PATH, 'merged') # summary dir folder\n",
    "\n",
    "BUILDINGS_TRAIN_LABEL_PATH = os.path.join(DATA_PATH, 'buildings/training/label')\n",
    "BUILDINGS_VAL_LABEL_PATH = os.path.join(DATA_PATH, 'buildings/validation/label')\n",
    "ROADS_TRAIN_LABEL_PATH = os.path.join(DATA_PATH, 'roads/training/label')\n",
    "ROADS_VAL_LABEL_PATH = os.path.join(DATA_PATH, 'roads/validation/label')"
   ]
  },
  {
   "cell_type": "code",
   "execution_count": null,
   "id": "73d2cdf5",
   "metadata": {
    "execution": {
     "iopub.execute_input": "2021-05-21T00:06:33.533396Z",
     "iopub.status.busy": "2021-05-21T00:06:33.533245Z",
     "iopub.status.idle": "2021-05-21T00:06:33.538008Z",
     "shell.execute_reply": "2021-05-21T00:06:33.537551Z",
     "shell.execute_reply.started": "2021-05-21T00:06:33.533376Z"
    },
    "tags": []
   },
   "outputs": [],
   "source": [
    "SAMPLE_GEOJSON_PATH"
   ]
  },
  {
   "cell_type": "markdown",
   "id": "8ab56a43",
   "metadata": {
    "tags": []
   },
   "source": [
    "### 3. load json file"
   ]
  },
  {
   "cell_type": "code",
   "execution_count": null,
   "id": "697fb763",
   "metadata": {
    "execution": {
     "iopub.execute_input": "2021-05-21T00:06:33.538669Z",
     "iopub.status.busy": "2021-05-21T00:06:33.538523Z",
     "iopub.status.idle": "2021-05-21T00:06:33.544460Z",
     "shell.execute_reply": "2021-05-21T00:06:33.544088Z",
     "shell.execute_reply.started": "2021-05-21T00:06:33.538650Z"
    },
    "scrolled": true,
    "tags": []
   },
   "outputs": [],
   "source": [
    "with open(SAMPLE_GEOJSON_PATH, \"r\") as st_json:\n",
    "    st_python = json.load(st_json)\n",
    "\n",
    "type(st_python)"
   ]
  },
  {
   "cell_type": "markdown",
   "id": "264362bd",
   "metadata": {},
   "source": [
    "## 2. Parse Json to class\n",
    "---"
   ]
  },
  {
   "cell_type": "markdown",
   "id": "d9d8c09e",
   "metadata": {
    "tags": []
   },
   "source": [
    "### 1. define class :: type1"
   ]
  },
  {
   "cell_type": "markdown",
   "id": "2dd7781b",
   "metadata": {},
   "source": [
    "![CD_geojson.png](./assets/CD_geojson.png)"
   ]
  },
  {
   "cell_type": "code",
   "execution_count": null,
   "id": "58e1c447",
   "metadata": {
    "execution": {
     "iopub.execute_input": "2021-05-21T00:06:33.545198Z",
     "iopub.status.busy": "2021-05-21T00:06:33.545053Z",
     "iopub.status.idle": "2021-05-21T00:06:33.550649Z",
     "shell.execute_reply": "2021-05-21T00:06:33.550263Z",
     "shell.execute_reply.started": "2021-05-21T00:06:33.545179Z"
    },
    "tags": []
   },
   "outputs": [],
   "source": [
    "class Property():\n",
    "    def __init__(self, raw):\n",
    "        self.object_imcoords = raw['object_imcoords'] if 'object_imcoords' in raw else \"EMPTY\"\n",
    "        self.building_imcoords = raw['building_imcoords'] if 'building_imcoords' in raw else \"EMPTY\"\n",
    "        self.road_imcoords = raw['road_imcoords'] if 'road_imcoords' in raw else \"EMPTY\"\n",
    "        self.image_id = raw['image_id'] if 'image_id' in raw else None\n",
    "        self.ingest_time = raw['ingest_time'] if 'ingest_time' in raw else None\n",
    "        self.type_id = raw['type_id'] if 'type_id' in raw else None\n",
    "        self.type_name = raw['type_name'] if 'type_name' in raw else None\n",
    "        \n",
    "    def is_building(self):\n",
    "        ans = False\n",
    "        if self.building_imcoords != \"EMPTY\" and self.road_imcoords == \"EMPTY\":\n",
    "            ans = True\n",
    "        return ans\n",
    "    \n",
    "    def is_road(self):\n",
    "        ans = False\n",
    "        if self.building_imcoords == \"EMPTY\" and self.road_imcoords != \"EMPTY\":\n",
    "            ans = True\n",
    "        return ans\n",
    "    \n",
    "    def __str__(self):\n",
    "        return f'''{{\n",
    "    object_imcoords : {self.object_imcoords},\n",
    "    building_imcoords : {self.building_imcoords},\n",
    "    road_imcoords : {self.road_imcoords},\n",
    "    image_id : {self.image_id},\n",
    "    ingest_time : {self.ingest_time},\n",
    "    type_id : {self.type_id},\n",
    "    type_name : {self.type_name}\n",
    "}}\n",
    "        '''\n",
    "    \n",
    "    def __repr__(self):\n",
    "        data_type = \"building\" if self.is_building() else \"road\"\n",
    "        _str = \"\"\n",
    "        if data_type == \"building\":\n",
    "            _str = f'Property : data type({data_type}), coordinates({self.building_imcoords})'\n",
    "        else:\n",
    "            _str = f'Property : data type({data_type}), coordinates({self.road_imcoords})'\n",
    "        return _str"
   ]
  },
  {
   "cell_type": "code",
   "execution_count": null,
   "id": "e3c11b83",
   "metadata": {
    "execution": {
     "iopub.execute_input": "2021-05-21T00:06:33.551517Z",
     "iopub.status.busy": "2021-05-21T00:06:33.551308Z",
     "iopub.status.idle": "2021-05-21T00:06:33.554401Z",
     "shell.execute_reply": "2021-05-21T00:06:33.554044Z",
     "shell.execute_reply.started": "2021-05-21T00:06:33.551497Z"
    },
    "tags": []
   },
   "outputs": [],
   "source": [
    "class Geometry():\n",
    "    def __init__(self, raw):\n",
    "        self.coordinates = raw['coordinates'] if 'coordinates' in raw else []\n",
    "        self.type = raw['type'] if 'type' in raw else \"\"\n",
    "\n",
    "    def __str__(self):\n",
    "        return f'''{{\n",
    "    type : {self.type},\n",
    "    coordinates : {self.coordinates}\n",
    "}}\n",
    "        '''\n",
    "    \n",
    "    def __repr__(self):\n",
    "        return f'Geometry : data type({self.type}), coordinates({self.coordinates})'"
   ]
  },
  {
   "cell_type": "code",
   "execution_count": null,
   "id": "a40d7847",
   "metadata": {
    "execution": {
     "iopub.execute_input": "2021-05-21T00:06:33.555967Z",
     "iopub.status.busy": "2021-05-21T00:06:33.555824Z",
     "iopub.status.idle": "2021-05-21T00:06:33.559227Z",
     "shell.execute_reply": "2021-05-21T00:06:33.558836Z",
     "shell.execute_reply.started": "2021-05-21T00:06:33.555948Z"
    },
    "tags": []
   },
   "outputs": [],
   "source": [
    "class Feature():\n",
    "    def __init__(self, raw):\n",
    "        self.type = \"Feature\"\n",
    "        self.geometry = Geometry(raw['geometry']) if 'geometry' in raw else None\n",
    "        self.properties = Property(raw['properties']) if 'properties' in raw else None\n",
    "\n",
    "    def __str__(self):\n",
    "        return 'Feature : Geometry({}), data type({})'.format(\n",
    "            self.geometry.type,\n",
    "            \"building\" if self.properties.is_building() else \"road\"\n",
    "        )\n",
    "    \n",
    "    def __repr__(self):\n",
    "        return self.__str__()"
   ]
  },
  {
   "cell_type": "code",
   "execution_count": null,
   "id": "4d2b0ecb",
   "metadata": {
    "execution": {
     "iopub.execute_input": "2021-05-21T00:06:33.560399Z",
     "iopub.status.busy": "2021-05-21T00:06:33.560244Z",
     "iopub.status.idle": "2021-05-21T00:06:33.563945Z",
     "shell.execute_reply": "2021-05-21T00:06:33.563491Z",
     "shell.execute_reply.started": "2021-05-21T00:06:33.560379Z"
    },
    "tags": []
   },
   "outputs": [],
   "source": [
    "class FeatureCollection():\n",
    "    def __init__(self, raw):\n",
    "        self.type = \"FeatureCollection\"\n",
    "        self.features = []\n",
    "        \n",
    "        if 'features' in raw and type(raw['features']) == list:\n",
    "            self.features = [ Feature(feature) for feature in raw['features'] ]\n",
    "    \n",
    "    def __str__(self):\n",
    "        return f'FeatureCollection with {len(self.features)} features'\n",
    "    \n",
    "    def __repr__(self):\n",
    "        return self.__str__()"
   ]
  },
  {
   "cell_type": "code",
   "execution_count": null,
   "id": "28903d38",
   "metadata": {
    "execution": {
     "iopub.execute_input": "2021-05-21T00:06:33.564839Z",
     "iopub.status.busy": "2021-05-21T00:06:33.564681Z",
     "iopub.status.idle": "2021-05-21T00:06:33.568669Z",
     "shell.execute_reply": "2021-05-21T00:06:33.568159Z",
     "shell.execute_reply.started": "2021-05-21T00:06:33.564818Z"
    },
    "tags": []
   },
   "outputs": [],
   "source": [
    "fc = FeatureCollection(st_python)"
   ]
  },
  {
   "cell_type": "code",
   "execution_count": null,
   "id": "15fe3b0f",
   "metadata": {
    "execution": {
     "iopub.execute_input": "2021-05-21T00:06:33.569600Z",
     "iopub.status.busy": "2021-05-21T00:06:33.569388Z",
     "iopub.status.idle": "2021-05-21T00:06:33.572623Z",
     "shell.execute_reply": "2021-05-21T00:06:33.572224Z",
     "shell.execute_reply.started": "2021-05-21T00:06:33.569578Z"
    },
    "tags": []
   },
   "outputs": [],
   "source": [
    "fc"
   ]
  },
  {
   "cell_type": "code",
   "execution_count": null,
   "id": "c0e75fcc",
   "metadata": {
    "execution": {
     "iopub.execute_input": "2021-05-21T00:06:33.573409Z",
     "iopub.status.busy": "2021-05-21T00:06:33.573255Z",
     "iopub.status.idle": "2021-05-21T00:06:33.576686Z",
     "shell.execute_reply": "2021-05-21T00:06:33.576181Z",
     "shell.execute_reply.started": "2021-05-21T00:06:33.573388Z"
    },
    "tags": []
   },
   "outputs": [],
   "source": [
    "fc.features[0]"
   ]
  },
  {
   "cell_type": "code",
   "execution_count": null,
   "id": "c7b93028",
   "metadata": {
    "execution": {
     "iopub.execute_input": "2021-05-21T00:06:33.577631Z",
     "iopub.status.busy": "2021-05-21T00:06:33.577468Z",
     "iopub.status.idle": "2021-05-21T00:06:33.580861Z",
     "shell.execute_reply": "2021-05-21T00:06:33.580418Z",
     "shell.execute_reply.started": "2021-05-21T00:06:33.577609Z"
    },
    "tags": []
   },
   "outputs": [],
   "source": [
    "fc.features[0].geometry"
   ]
  },
  {
   "cell_type": "code",
   "execution_count": null,
   "id": "52e6e8b5",
   "metadata": {
    "execution": {
     "iopub.execute_input": "2021-05-21T00:06:33.581784Z",
     "iopub.status.busy": "2021-05-21T00:06:33.581573Z",
     "iopub.status.idle": "2021-05-21T00:06:33.584946Z",
     "shell.execute_reply": "2021-05-21T00:06:33.584482Z",
     "shell.execute_reply.started": "2021-05-21T00:06:33.581758Z"
    },
    "tags": []
   },
   "outputs": [],
   "source": [
    "fc.features[0].properties"
   ]
  },
  {
   "cell_type": "code",
   "execution_count": null,
   "id": "ea60224f",
   "metadata": {
    "execution": {
     "iopub.execute_input": "2021-05-21T00:06:33.585742Z",
     "iopub.status.busy": "2021-05-21T00:06:33.585588Z",
     "iopub.status.idle": "2021-05-21T00:06:33.588488Z",
     "shell.execute_reply": "2021-05-21T00:06:33.588070Z",
     "shell.execute_reply.started": "2021-05-21T00:06:33.585722Z"
    },
    "tags": []
   },
   "outputs": [],
   "source": [
    "print(fc.features[0].properties)"
   ]
  },
  {
   "cell_type": "code",
   "execution_count": null,
   "id": "ecfdccf5",
   "metadata": {
    "execution": {
     "iopub.execute_input": "2021-05-21T00:06:33.589373Z",
     "iopub.status.busy": "2021-05-21T00:06:33.589214Z",
     "iopub.status.idle": "2021-05-21T00:06:33.593052Z",
     "shell.execute_reply": "2021-05-21T00:06:33.592592Z",
     "shell.execute_reply.started": "2021-05-21T00:06:33.589352Z"
    },
    "tags": []
   },
   "outputs": [],
   "source": [
    "img = [feature.properties.image_id for feature in fc.features]\n",
    "set(img)"
   ]
  },
  {
   "cell_type": "markdown",
   "id": "94f3da90",
   "metadata": {
    "execution": {
     "iopub.execute_input": "2021-05-11T04:44:09.998957Z",
     "iopub.status.busy": "2021-05-11T04:44:09.998713Z",
     "iopub.status.idle": "2021-05-11T04:44:10.002396Z",
     "shell.execute_reply": "2021-05-11T04:44:10.001806Z",
     "shell.execute_reply.started": "2021-05-11T04:44:09.998932Z"
    },
    "tags": []
   },
   "source": [
    "### 2. define class :: type 2"
   ]
  },
  {
   "cell_type": "markdown",
   "id": "c591ae4e",
   "metadata": {},
   "source": [
    "![image](./assets/CD_object.png)"
   ]
  },
  {
   "cell_type": "code",
   "execution_count": null,
   "id": "2110c163",
   "metadata": {
    "execution": {
     "iopub.execute_input": "2021-05-21T00:06:33.593828Z",
     "iopub.status.busy": "2021-05-21T00:06:33.593676Z",
     "iopub.status.idle": "2021-05-21T00:06:33.596963Z",
     "shell.execute_reply": "2021-05-21T00:06:33.596424Z",
     "shell.execute_reply.started": "2021-05-21T00:06:33.593808Z"
    },
    "tags": []
   },
   "outputs": [],
   "source": [
    "class Object():\n",
    "    def __init__(self, raw):\n",
    "        self.area_id = raw['image_id'] if 'image_id' in raw else None\n",
    "        self.imcoords = raw['imcoords_pix'] if 'imcoords_pix' in raw else None\n",
    "        self.image_id = raw['imcoords_geo'] if 'imcoords_geo' in raw else None\n",
    "        self.type = raw['type'] if 'type' in raw else None"
   ]
  },
  {
   "cell_type": "code",
   "execution_count": null,
   "id": "4010b472",
   "metadata": {
    "execution": {
     "iopub.execute_input": "2021-05-21T00:06:33.597868Z",
     "iopub.status.busy": "2021-05-21T00:06:33.597708Z",
     "iopub.status.idle": "2021-05-21T00:06:33.600535Z",
     "shell.execute_reply": "2021-05-21T00:06:33.600133Z",
     "shell.execute_reply.started": "2021-05-21T00:06:33.597848Z"
    },
    "tags": []
   },
   "outputs": [],
   "source": [
    "class Site():\n",
    "    def __init__(self, coodinates, area_id):\n",
    "        self.coodinates = coodinates\n",
    "        self.image_id = image_id\n",
    "    \n",
    "    def __str__(self):\n",
    "        return f'Site({self.image_id}) : {self.coordinates}'"
   ]
  },
  {
   "cell_type": "markdown",
   "id": "9caeba11",
   "metadata": {},
   "source": [
    "### 3. parsing"
   ]
  },
  {
   "cell_type": "markdown",
   "id": "a38c2a7a",
   "metadata": {
    "tags": []
   },
   "source": [
    "#### A. load all json file"
   ]
  },
  {
   "cell_type": "code",
   "execution_count": null,
   "id": "54f25b2c",
   "metadata": {
    "execution": {
     "iopub.execute_input": "2021-05-21T00:06:33.601351Z",
     "iopub.status.busy": "2021-05-21T00:06:33.601149Z",
     "iopub.status.idle": "2021-05-21T00:06:33.604504Z",
     "shell.execute_reply": "2021-05-21T00:06:33.604031Z",
     "shell.execute_reply.started": "2021-05-21T00:06:33.601331Z"
    },
    "tags": []
   },
   "outputs": [],
   "source": [
    "def load_json(file_paths):\n",
    "    res = {}\n",
    "    for file_path in tqdm(file_paths):\n",
    "        with open(file_path, \"r\") as f:\n",
    "            name = os.path.basename(f.name)\n",
    "            if name in res:\n",
    "                print(f'WARNING : file name {naem} is duplicated')\n",
    "            else:\n",
    "                res[name] = json.load(f)\n",
    "    return res"
   ]
  },
  {
   "cell_type": "code",
   "execution_count": null,
   "id": "35955985",
   "metadata": {
    "execution": {
     "iopub.execute_input": "2021-05-21T00:06:33.605363Z",
     "iopub.status.busy": "2021-05-21T00:06:33.605208Z",
     "iopub.status.idle": "2021-05-21T00:06:33.607754Z",
     "shell.execute_reply": "2021-05-21T00:06:33.607358Z",
     "shell.execute_reply.started": "2021-05-21T00:06:33.605342Z"
    },
    "tags": []
   },
   "outputs": [],
   "source": [
    "buildings_train_label_pattern = BUILDINGS_TRAIN_LABEL_PATH + r\"/*.json\"\n",
    "buildings_val_label_pattern = BUILDINGS_VAL_LABEL_PATH + r\"/*.json\"\n",
    "roads_train_label_pattern = ROADS_TRAIN_LABEL_PATH + r\"/*.json\"\n",
    "roads_val_label_pattern = ROADS_VAL_LABEL_PATH + r\"/*.json\""
   ]
  },
  {
   "cell_type": "code",
   "execution_count": null,
   "id": "e30bc738",
   "metadata": {
    "execution": {
     "iopub.execute_input": "2021-05-21T00:06:33.608593Z",
     "iopub.status.busy": "2021-05-21T00:06:33.608438Z",
     "iopub.status.idle": "2021-05-21T00:06:33.629400Z",
     "shell.execute_reply": "2021-05-21T00:06:33.628722Z",
     "shell.execute_reply.started": "2021-05-21T00:06:33.608571Z"
    },
    "tags": []
   },
   "outputs": [],
   "source": [
    "buildings_train_label_paths = glob.glob(buildings_train_label_pattern)\n",
    "buildings_val_label_paths = glob.glob(buildings_val_label_pattern)\n",
    "roads_train_label_paths = glob.glob(roads_train_label_pattern)\n",
    "roads_val_label_paths = glob.glob(roads_val_label_pattern)\n",
    "\n",
    "print(f'len(buildings_train_label_paths) : {len(buildings_train_label_paths)}')\n",
    "print(f'len(buildings_val_label_paths) : {len(buildings_val_label_paths)}')\n",
    "print(f'len(roads_train_label_paths) : {len(roads_train_label_paths)}')\n",
    "print(f'len(roads_val_label_paths) : {len(roads_val_label_paths)}')"
   ]
  },
  {
   "cell_type": "code",
   "execution_count": null,
   "id": "ed3b2e0c",
   "metadata": {
    "execution": {
     "iopub.execute_input": "2021-05-21T00:06:33.630759Z",
     "iopub.status.busy": "2021-05-21T00:06:33.630493Z",
     "iopub.status.idle": "2021-05-21T00:06:36.987197Z",
     "shell.execute_reply": "2021-05-21T00:06:36.986608Z",
     "shell.execute_reply.started": "2021-05-21T00:06:33.630723Z"
    },
    "tags": []
   },
   "outputs": [],
   "source": [
    "buildings_train_label_json = load_json(buildings_train_label_paths)\n",
    "buildings_val_label_json = load_json(buildings_val_label_paths)\n",
    "roads_train_label_json = load_json(roads_train_label_paths)\n",
    "roads_val_label_json = load_json(roads_val_label_paths)"
   ]
  },
  {
   "cell_type": "code",
   "execution_count": null,
   "id": "1ab254c5",
   "metadata": {
    "execution": {
     "iopub.execute_input": "2021-05-21T00:06:36.988108Z",
     "iopub.status.busy": "2021-05-21T00:06:36.987935Z",
     "iopub.status.idle": "2021-05-21T00:06:36.991550Z",
     "shell.execute_reply": "2021-05-21T00:06:36.991046Z",
     "shell.execute_reply.started": "2021-05-21T00:06:36.988086Z"
    },
    "tags": []
   },
   "outputs": [],
   "source": [
    "print(f'len(buildings_train_label_json) : {len(buildings_train_label_json)}')\n",
    "print(f'len(buildings_val_label_json) : {len(buildings_val_label_json)}')\n",
    "print(f'len(roads_train_label_json) : {len(roads_train_label_json)}')\n",
    "print(f'len(roads_val_label_json) : {len(roads_val_label_json)}')"
   ]
  },
  {
   "cell_type": "code",
   "execution_count": null,
   "id": "27ae94eb",
   "metadata": {
    "execution": {
     "iopub.execute_input": "2021-05-21T00:06:36.992401Z",
     "iopub.status.busy": "2021-05-21T00:06:36.992233Z",
     "iopub.status.idle": "2021-05-21T00:06:36.996319Z",
     "shell.execute_reply": "2021-05-21T00:06:36.995794Z",
     "shell.execute_reply.started": "2021-05-21T00:06:36.992379Z"
    },
    "tags": []
   },
   "outputs": [],
   "source": [
    "all_keys = list(buildings_train_label_json.keys()) + \\\n",
    "           list(buildings_val_label_json.keys()) + \\\n",
    "           list(roads_train_label_json.keys()) + \\\n",
    "           list(roads_val_label_json.keys())\n",
    "print(len(all_keys), len(list(set(all_keys))))\n",
    "### key들에 중복이 존재"
   ]
  },
  {
   "cell_type": "markdown",
   "id": "4b604182",
   "metadata": {
    "execution": {
     "iopub.execute_input": "2021-05-11T06:27:45.835127Z",
     "iopub.status.busy": "2021-05-11T06:27:45.834926Z",
     "iopub.status.idle": "2021-05-11T06:27:45.837349Z",
     "shell.execute_reply": "2021-05-11T06:27:45.836907Z",
     "shell.execute_reply.started": "2021-05-11T06:27:45.835102Z"
    },
    "tags": []
   },
   "source": [
    "#### B. parse json as class"
   ]
  },
  {
   "cell_type": "code",
   "execution_count": null,
   "id": "80125dc8",
   "metadata": {
    "execution": {
     "iopub.execute_input": "2021-05-21T00:06:36.997287Z",
     "iopub.status.busy": "2021-05-21T00:06:36.997117Z",
     "iopub.status.idle": "2021-05-21T00:06:38.260882Z",
     "shell.execute_reply": "2021-05-21T00:06:38.260248Z",
     "shell.execute_reply.started": "2021-05-21T00:06:36.997264Z"
    },
    "tags": []
   },
   "outputs": [],
   "source": [
    "all_json = list(buildings_train_label_json.values()) + \\\n",
    "           list(buildings_val_label_json.values()) +  \\\n",
    "           list(roads_train_label_json.values()) + \\\n",
    "           list(roads_val_label_json.values())\n",
    "feature_collections = [ FeatureCollection(_json) for _json in tqdm(all_json) ]"
   ]
  },
  {
   "cell_type": "code",
   "execution_count": null,
   "id": "51a96f9e",
   "metadata": {
    "execution": {
     "iopub.execute_input": "2021-05-21T00:06:38.264111Z",
     "iopub.status.busy": "2021-05-21T00:06:38.263925Z",
     "iopub.status.idle": "2021-05-21T00:06:38.267597Z",
     "shell.execute_reply": "2021-05-21T00:06:38.267055Z",
     "shell.execute_reply.started": "2021-05-21T00:06:38.264088Z"
    },
    "tags": []
   },
   "outputs": [],
   "source": [
    "feature_collections[0]"
   ]
  },
  {
   "cell_type": "code",
   "execution_count": null,
   "id": "6c5a0bfc",
   "metadata": {
    "execution": {
     "iopub.execute_input": "2021-05-21T00:06:38.268974Z",
     "iopub.status.busy": "2021-05-21T00:06:38.268815Z",
     "iopub.status.idle": "2021-05-21T00:06:38.272260Z",
     "shell.execute_reply": "2021-05-21T00:06:38.271751Z",
     "shell.execute_reply.started": "2021-05-21T00:06:38.268953Z"
    },
    "tags": []
   },
   "outputs": [],
   "source": [
    "feature_collections[0].features[0]"
   ]
  },
  {
   "cell_type": "code",
   "execution_count": null,
   "id": "5b8b2f61",
   "metadata": {
    "execution": {
     "iopub.execute_input": "2021-05-21T00:06:38.273139Z",
     "iopub.status.busy": "2021-05-21T00:06:38.272976Z",
     "iopub.status.idle": "2021-05-21T00:06:38.276617Z",
     "shell.execute_reply": "2021-05-21T00:06:38.276112Z",
     "shell.execute_reply.started": "2021-05-21T00:06:38.273118Z"
    },
    "tags": []
   },
   "outputs": [],
   "source": [
    "feature_collections[0].features[0].geometry"
   ]
  },
  {
   "cell_type": "code",
   "execution_count": null,
   "id": "3e118943",
   "metadata": {
    "execution": {
     "iopub.execute_input": "2021-05-21T00:06:38.277462Z",
     "iopub.status.busy": "2021-05-21T00:06:38.277298Z",
     "iopub.status.idle": "2021-05-21T00:06:38.280342Z",
     "shell.execute_reply": "2021-05-21T00:06:38.279850Z",
     "shell.execute_reply.started": "2021-05-21T00:06:38.277441Z"
    },
    "tags": []
   },
   "outputs": [],
   "source": [
    "print(feature_collections[0].features[0].properties)"
   ]
  },
  {
   "cell_type": "markdown",
   "id": "f1ae7f1d",
   "metadata": {
    "tags": []
   },
   "source": [
    "## 3. Abstract Area\n",
    "---"
   ]
  },
  {
   "cell_type": "markdown",
   "id": "1d60ecb8",
   "metadata": {},
   "source": [
    "- wkt\n",
    "    - 정의 : https://en.wikipedia.org/wiki/Well-known_text_representation_of_geometry\n",
    "    - 데이터 확인 : https://clydedacruz.github.io/openstreetmap-wkt-playground/"
   ]
  },
  {
   "cell_type": "markdown",
   "id": "9fa311f2",
   "metadata": {},
   "source": [
    "### 1. Geometry 추출"
   ]
  },
  {
   "cell_type": "code",
   "execution_count": null,
   "id": "269fbff3",
   "metadata": {
    "execution": {
     "iopub.execute_input": "2021-05-21T00:06:38.281191Z",
     "iopub.status.busy": "2021-05-21T00:06:38.281026Z",
     "iopub.status.idle": "2021-05-21T00:06:38.877619Z",
     "shell.execute_reply": "2021-05-21T00:06:38.876998Z",
     "shell.execute_reply.started": "2021-05-21T00:06:38.281170Z"
    },
    "tags": []
   },
   "outputs": [],
   "source": [
    "geometreis = [ [f.properties.image_id.split('.')[0], f.geometry] for fc in feature_collections for f in fc.features ]\n",
    "len(geometreis), geometreis[0][0], geometreis[0][1].coordinates"
   ]
  },
  {
   "cell_type": "markdown",
   "id": "e909fb6c",
   "metadata": {},
   "source": [
    "### 2. list 형태로 되어 있는 좌표정보(coordinates)를 wkt로 변화"
   ]
  },
  {
   "cell_type": "code",
   "execution_count": null,
   "id": "bae3f8c5",
   "metadata": {
    "execution": {
     "iopub.execute_input": "2021-05-21T00:06:38.878516Z",
     "iopub.status.busy": "2021-05-21T00:06:38.878339Z",
     "iopub.status.idle": "2021-05-21T00:06:38.882750Z",
     "shell.execute_reply": "2021-05-21T00:06:38.882111Z",
     "shell.execute_reply.started": "2021-05-21T00:06:38.878493Z"
    },
    "tags": []
   },
   "outputs": [],
   "source": [
    "def coor_to_polygon(coordinates):\n",
    "    \"\"\"\n",
    "    [[x1, y1, z1],\n",
    "     [x2, y2, z2],\n",
    "     [x3, y3, z3],\n",
    "     [x4, y4, z4]]\n",
    "    to\n",
    "    POLYGON ((x1 y1, x2 y2, x3 y3, x4 y4, x1 y1))\n",
    "    \"\"\"\n",
    "    coordinates.append(coordinates[0])\n",
    "    wkt = \"POLYGON((\"\n",
    "    wkt += \", \".join([\" \".join(map(str, coor[:-1])) for coor in coordinates])\n",
    "    wkt += \"))\"\n",
    "    return wkt"
   ]
  },
  {
   "cell_type": "code",
   "execution_count": null,
   "id": "32eff810",
   "metadata": {
    "execution": {
     "iopub.execute_input": "2021-05-21T00:06:38.883770Z",
     "iopub.status.busy": "2021-05-21T00:06:38.883583Z",
     "iopub.status.idle": "2021-05-21T00:06:40.659890Z",
     "shell.execute_reply": "2021-05-21T00:06:40.659212Z",
     "shell.execute_reply.started": "2021-05-21T00:06:38.883746Z"
    },
    "tags": []
   },
   "outputs": [],
   "source": [
    "areas = [(image_id, coor_to_polygon(geometry.coordinates)) for image_id, geometry in tqdm(geometreis)]\n",
    "areas = list(set(areas))\n",
    "print(len(areas), areas[0])"
   ]
  },
  {
   "cell_type": "markdown",
   "id": "bed5a203",
   "metadata": {},
   "source": [
    "### 3. csv 저장"
   ]
  },
  {
   "cell_type": "code",
   "execution_count": null,
   "id": "a0574245",
   "metadata": {
    "execution": {
     "iopub.execute_input": "2021-05-21T00:06:40.660950Z",
     "iopub.status.busy": "2021-05-21T00:06:40.660752Z",
     "iopub.status.idle": "2021-05-21T00:06:40.665360Z",
     "shell.execute_reply": "2021-05-21T00:06:40.664789Z",
     "shell.execute_reply.started": "2021-05-21T00:06:40.660917Z"
    },
    "tags": []
   },
   "outputs": [],
   "source": [
    "def save_csv(path, data, fields):\n",
    "    if type(data) != list:\n",
    "        assert f'[save_csv] The type of input parameter data must be list.'\n",
    "    if not data:\n",
    "        assert f'[save_csv] The parameter data should not empty.'\n",
    "    if len(data[0]) != len(fields):\n",
    "        assert f'[save_csv] The number of data column and fields must be same.'\n",
    "            \n",
    "    with open(path, \"w\", newline=\"\", encoding=\"utf-8\") as f:\n",
    "        writer = csv.writer(f)\n",
    "        writer.writerow(fields)\n",
    "        writer.writerows(data)"
   ]
  },
  {
   "cell_type": "code",
   "execution_count": null,
   "id": "3b85127a",
   "metadata": {
    "execution": {
     "iopub.execute_input": "2021-05-21T00:06:40.666412Z",
     "iopub.status.busy": "2021-05-21T00:06:40.666224Z",
     "iopub.status.idle": "2021-05-21T00:06:40.677804Z",
     "shell.execute_reply": "2021-05-21T00:06:40.677154Z",
     "shell.execute_reply.started": "2021-05-21T00:06:40.666387Z"
    },
    "tags": []
   },
   "outputs": [],
   "source": [
    "MERGED_PATH = os.path.join(DATA_PATH, 'merged')\n",
    "save_csv(os.path.join(MERGED_PATH, 'Site.csv'), areas, ['image_id', 'coordinates'])"
   ]
  },
  {
   "cell_type": "markdown",
   "id": "45e4806b",
   "metadata": {},
   "source": [
    "### 4. 저장된 파일 확인"
   ]
  },
  {
   "cell_type": "code",
   "execution_count": null,
   "id": "d3679874",
   "metadata": {
    "execution": {
     "iopub.execute_input": "2021-05-21T00:06:40.678868Z",
     "iopub.status.busy": "2021-05-21T00:06:40.678673Z",
     "iopub.status.idle": "2021-05-21T00:06:40.698200Z",
     "shell.execute_reply": "2021-05-21T00:06:40.697590Z",
     "shell.execute_reply.started": "2021-05-21T00:06:40.678844Z"
    },
    "tags": []
   },
   "outputs": [],
   "source": [
    "area_path = os.path.join(MERGED_PATH, 'Site.csv')\n",
    "df = pd.read_csv(area_path, encoding='utf-8')\n",
    "df.head(5)"
   ]
  },
  {
   "cell_type": "code",
   "execution_count": null,
   "id": "de25b11d",
   "metadata": {
    "execution": {
     "iopub.execute_input": "2021-05-21T00:06:40.699221Z",
     "iopub.status.busy": "2021-05-21T00:06:40.699035Z",
     "iopub.status.idle": "2021-05-21T00:06:40.703705Z",
     "shell.execute_reply": "2021-05-21T00:06:40.703086Z",
     "shell.execute_reply.started": "2021-05-21T00:06:40.699197Z"
    }
   },
   "outputs": [],
   "source": [
    "df['coordinates'][0]"
   ]
  },
  {
   "cell_type": "code",
   "execution_count": null,
   "id": "915084f1",
   "metadata": {
    "execution": {
     "iopub.execute_input": "2021-05-21T00:06:40.704630Z",
     "iopub.status.busy": "2021-05-21T00:06:40.704452Z",
     "iopub.status.idle": "2021-05-21T00:06:40.719063Z",
     "shell.execute_reply": "2021-05-21T00:06:40.718506Z",
     "shell.execute_reply.started": "2021-05-21T00:06:40.704607Z"
    }
   },
   "outputs": [],
   "source": [
    "df.describe(include='all')"
   ]
  },
  {
   "cell_type": "code",
   "execution_count": null,
   "id": "28b48495",
   "metadata": {
    "execution": {
     "iopub.execute_input": "2021-05-21T00:06:40.719968Z",
     "iopub.status.busy": "2021-05-21T00:06:40.719785Z",
     "iopub.status.idle": "2021-05-21T00:06:40.769411Z",
     "shell.execute_reply": "2021-05-21T00:06:40.768957Z",
     "shell.execute_reply.started": "2021-05-21T00:06:40.719930Z"
    },
    "tags": []
   },
   "outputs": [],
   "source": [
    "df['coordinates'] = gpd.GeoSeries.from_wkt(df['coordinates'])\n",
    "gdf = gpd.GeoDataFrame(df, geometry='coordinates')\n",
    "gdf.head(5)"
   ]
  },
  {
   "cell_type": "code",
   "execution_count": null,
   "id": "74e998a1",
   "metadata": {
    "execution": {
     "iopub.execute_input": "2021-05-21T00:06:40.770284Z",
     "iopub.status.busy": "2021-05-21T00:06:40.770120Z",
     "iopub.status.idle": "2021-05-21T00:06:40.774622Z",
     "shell.execute_reply": "2021-05-21T00:06:40.774183Z",
     "shell.execute_reply.started": "2021-05-21T00:06:40.770262Z"
    }
   },
   "outputs": [],
   "source": [
    "list(df['coordinates'][0].exterior.coords)"
   ]
  },
  {
   "cell_type": "code",
   "execution_count": null,
   "id": "7d61f57c",
   "metadata": {
    "execution": {
     "iopub.execute_input": "2021-05-21T00:06:40.775492Z",
     "iopub.status.busy": "2021-05-21T00:06:40.775303Z",
     "iopub.status.idle": "2021-05-21T00:06:40.778893Z",
     "shell.execute_reply": "2021-05-21T00:06:40.778417Z",
     "shell.execute_reply.started": "2021-05-21T00:06:40.775470Z"
    },
    "tags": []
   },
   "outputs": [],
   "source": [
    "type(gdf['coordinates'][0])"
   ]
  },
  {
   "cell_type": "markdown",
   "id": "9fd08464",
   "metadata": {},
   "source": [
    "#### A. **AREA 분포 확인**"
   ]
  },
  {
   "cell_type": "code",
   "execution_count": null,
   "id": "b8648fdd",
   "metadata": {
    "execution": {
     "iopub.execute_input": "2021-05-21T00:06:40.779715Z",
     "iopub.status.busy": "2021-05-21T00:06:40.779552Z",
     "iopub.status.idle": "2021-05-21T00:06:47.102271Z",
     "shell.execute_reply": "2021-05-21T00:06:47.101691Z",
     "shell.execute_reply.started": "2021-05-21T00:06:40.779694Z"
    },
    "tags": []
   },
   "outputs": [],
   "source": [
    "\n",
    "\n",
    "\n",
    "m = folium.Map(zoom_start=8, tiles='CartoDB positron')\n",
    "\n",
    "for _, r in gdf.iterrows():\n",
    "    sim_geo = gpd.GeoSeries(r['coordinates']).simplify(tolerance=0.001)\n",
    "    geo_j = sim_geo.to_json()\n",
    "    geo_j = folium.GeoJson(data=geo_j,\n",
    "                           style_function=lambda x: {'fillColor': 'orange'})\n",
    "    folium.Popup(r['image_id']).add_to(geo_j)\n",
    "    geo_j.add_to(m)\n",
    "m"
   ]
  },
  {
   "cell_type": "markdown",
   "id": "b87f2b7b",
   "metadata": {},
   "source": [
    "## 4. Abstract Building Object\n",
    "---"
   ]
  },
  {
   "cell_type": "markdown",
   "id": "72d65fcb",
   "metadata": {},
   "source": [
    "### 1. Buildings 추출"
   ]
  },
  {
   "cell_type": "code",
   "execution_count": null,
   "id": "d04153cb",
   "metadata": {
    "execution": {
     "iopub.execute_input": "2021-05-21T00:06:47.103211Z",
     "iopub.status.busy": "2021-05-21T00:06:47.103055Z",
     "iopub.status.idle": "2021-05-21T00:06:47.106894Z",
     "shell.execute_reply": "2021-05-21T00:06:47.106340Z",
     "shell.execute_reply.started": "2021-05-21T00:06:47.103190Z"
    },
    "tags": []
   },
   "outputs": [],
   "source": [
    "def imcoords_to_wkt(coordinates):\n",
    "    if coordinates == \"\":\n",
    "        return None # Nan\n",
    "    \n",
    "    coor = coordinates.split(',')\n",
    "    if len(coor) < 6:\n",
    "        return None # 다각형은 세개 이상의 점으로 이루어 진다.\n",
    "    \n",
    "    \n",
    "    coor = [f'{round(float(coor[i]))} {round(float(coor[i+1]))}' for i in range(0, len(coor), 2)]\n",
    "    coor += [coor[0]]\n",
    "    wkt = 'POLYGON((' + \", \".join(coor) + '))'\n",
    "    return wkt"
   ]
  },
  {
   "cell_type": "code",
   "execution_count": null,
   "id": "2190639a",
   "metadata": {
    "execution": {
     "iopub.execute_input": "2021-05-21T00:06:47.107965Z",
     "iopub.status.busy": "2021-05-21T00:06:47.107795Z",
     "iopub.status.idle": "2021-05-21T00:06:47.110858Z",
     "shell.execute_reply": "2021-05-21T00:06:47.110376Z",
     "shell.execute_reply.started": "2021-05-21T00:06:47.107943Z"
    },
    "tags": []
   },
   "outputs": [],
   "source": [
    "def get_building_attributes(feature):\n",
    "    return {\n",
    "        'image_id': feature.properties.image_id.split('.')[0],\n",
    "        'type': \"building\",\n",
    "        'coordinates_pix': imcoords_to_wkt(feature.properties.building_imcoords),\n",
    "        'coordinates_geo': \"\"\n",
    "    }"
   ]
  },
  {
   "cell_type": "code",
   "execution_count": null,
   "id": "06a2f71b",
   "metadata": {
    "execution": {
     "iopub.execute_input": "2021-05-21T00:06:47.111710Z",
     "iopub.status.busy": "2021-05-21T00:06:47.111559Z",
     "iopub.status.idle": "2021-05-21T00:06:49.269962Z",
     "shell.execute_reply": "2021-05-21T00:06:49.269385Z",
     "shell.execute_reply.started": "2021-05-21T00:06:47.111690Z"
    },
    "tags": []
   },
   "outputs": [],
   "source": [
    "buildings = [get_building_attributes(f) for fc in feature_collections \n",
    "             for f in fc.features \n",
    "             if f.properties.is_building()]\n",
    "buildings = [b for b in buildings if b['coordinates_pix']]\n",
    "print(len(buildings))"
   ]
  },
  {
   "cell_type": "markdown",
   "id": "85a3ae40",
   "metadata": {},
   "source": [
    "### 2. add site\n",
    "- coordinates_geo 계산을 위하여 site의 좌표 정보를 불러온다."
   ]
  },
  {
   "cell_type": "code",
   "execution_count": null,
   "id": "dda905ae",
   "metadata": {
    "execution": {
     "iopub.execute_input": "2021-05-21T00:06:49.270761Z",
     "iopub.status.busy": "2021-05-21T00:06:49.270601Z",
     "iopub.status.idle": "2021-05-21T00:06:49.282536Z",
     "shell.execute_reply": "2021-05-21T00:06:49.282033Z",
     "shell.execute_reply.started": "2021-05-21T00:06:49.270741Z"
    }
   },
   "outputs": [],
   "source": [
    "site_df = pd.read_csv(area_path, encoding='utf-8')\n",
    "site_df.head(5)"
   ]
  },
  {
   "cell_type": "code",
   "execution_count": null,
   "id": "cf6074ca",
   "metadata": {
    "execution": {
     "iopub.execute_input": "2021-05-21T00:06:49.283366Z",
     "iopub.status.busy": "2021-05-21T00:06:49.283209Z",
     "iopub.status.idle": "2021-05-21T00:06:49.414443Z",
     "shell.execute_reply": "2021-05-21T00:06:49.413881Z",
     "shell.execute_reply.started": "2021-05-21T00:06:49.283344Z"
    }
   },
   "outputs": [],
   "source": [
    "building_df = pd.DataFrame(buildings)\n",
    "building_df.head(5)"
   ]
  },
  {
   "cell_type": "code",
   "execution_count": null,
   "id": "70247939",
   "metadata": {
    "execution": {
     "iopub.execute_input": "2021-05-21T00:06:49.415343Z",
     "iopub.status.busy": "2021-05-21T00:06:49.415164Z",
     "iopub.status.idle": "2021-05-21T00:06:49.458680Z",
     "shell.execute_reply": "2021-05-21T00:06:49.458188Z",
     "shell.execute_reply.started": "2021-05-21T00:06:49.415314Z"
    }
   },
   "outputs": [],
   "source": [
    "merged = pd.merge(building_df, site_df, left_on=\"image_id\", right_on=\"image_id\", how=\"inner\")\n",
    "merged.head(5)"
   ]
  },
  {
   "cell_type": "code",
   "execution_count": null,
   "id": "ad58e7c6",
   "metadata": {
    "execution": {
     "iopub.execute_input": "2021-05-21T00:06:49.459585Z",
     "iopub.status.busy": "2021-05-21T00:06:49.459411Z",
     "iopub.status.idle": "2021-05-21T00:06:49.463293Z",
     "shell.execute_reply": "2021-05-21T00:06:49.462752Z",
     "shell.execute_reply.started": "2021-05-21T00:06:49.459555Z"
    }
   },
   "outputs": [],
   "source": [
    "len(building_df), len(merged)"
   ]
  },
  {
   "cell_type": "code",
   "execution_count": null,
   "id": "49f75f04",
   "metadata": {
    "execution": {
     "iopub.execute_input": "2021-05-21T00:06:49.464333Z",
     "iopub.status.busy": "2021-05-21T00:06:49.464122Z",
     "iopub.status.idle": "2021-05-21T00:06:55.634936Z",
     "shell.execute_reply": "2021-05-21T00:06:55.634395Z",
     "shell.execute_reply.started": "2021-05-21T00:06:49.464303Z"
    }
   },
   "outputs": [],
   "source": [
    "merged['coordinates'] = gpd.GeoSeries.from_wkt(merged['coordinates'])\n",
    "merged['coordinates_pix'] = gpd.GeoSeries.from_wkt(merged['coordinates_pix'])\n",
    "merged_gdf = gpd.GeoDataFrame(merged, geometry='coordinates_pix')\n",
    "merged_gdf.head(5)"
   ]
  },
  {
   "cell_type": "markdown",
   "id": "50a3b5b5",
   "metadata": {
    "tags": []
   },
   "source": [
    "### 3. coordinates_geo 계산"
   ]
  },
  {
   "cell_type": "code",
   "execution_count": null,
   "id": "1bbc08ae",
   "metadata": {
    "execution": {
     "iopub.execute_input": "2021-05-21T00:06:55.635791Z",
     "iopub.status.busy": "2021-05-21T00:06:55.635632Z",
     "iopub.status.idle": "2021-05-21T00:06:55.640193Z",
     "shell.execute_reply": "2021-05-21T00:06:55.639665Z",
     "shell.execute_reply.started": "2021-05-21T00:06:55.635770Z"
    }
   },
   "outputs": [],
   "source": [
    "def pix_coor_to_real_coor(site_geo, src, pix_size):\n",
    "    real_URC = (site_geo.bounds[2], site_geo.bounds[3])\n",
    "    real_LLC = (site_geo.bounds[0], site_geo.bounds[1])\n",
    "\n",
    "    pix_width = pix_size # 1024*1024 고정\n",
    "    pix_height = pix_size\n",
    "\n",
    "    width_scale = abs((real_URC[0] - real_LLC[0]) / pix_width)\n",
    "    height_scale = abs((real_URC[1] - real_LLC[1]) / pix_height)\n",
    "\n",
    "    width_trans = real_LLC[0]\n",
    "    height_trans = real_LLC[1]\n",
    "\n",
    "    \n",
    "    mirrored = affinity.affine_transform(src, [1, 0, 0, -1, 0, pix_height ])\n",
    "    return affinity.affine_transform(mirrored, [width_scale, 0, 0, height_scale, width_trans, height_trans ])"
   ]
  },
  {
   "cell_type": "code",
   "execution_count": null,
   "id": "240bd0aa",
   "metadata": {
    "execution": {
     "iopub.execute_input": "2021-05-21T00:06:55.641196Z",
     "iopub.status.busy": "2021-05-21T00:06:55.641016Z",
     "iopub.status.idle": "2021-05-21T00:06:55.650564Z",
     "shell.execute_reply": "2021-05-21T00:06:55.649855Z",
     "shell.execute_reply.started": "2021-05-21T00:06:55.641174Z"
    }
   },
   "outputs": [],
   "source": [
    "list(merged_gdf.loc[0]['coordinates'].exterior.coords)"
   ]
  },
  {
   "cell_type": "code",
   "execution_count": null,
   "id": "2f550bd4",
   "metadata": {
    "execution": {
     "iopub.execute_input": "2021-05-21T00:06:55.651905Z",
     "iopub.status.busy": "2021-05-21T00:06:55.651651Z",
     "iopub.status.idle": "2021-05-21T00:07:35.111602Z",
     "shell.execute_reply": "2021-05-21T00:07:35.111097Z",
     "shell.execute_reply.started": "2021-05-21T00:06:55.651870Z"
    },
    "tags": []
   },
   "outputs": [],
   "source": [
    "merged_gdf['coordinates_geo'] = merged_gdf.apply(lambda x: pix_coor_to_real_coor(x.coordinates, x.coordinates_pix, 1024), axis='columns')\n",
    "merged_gdf.head(5)"
   ]
  },
  {
   "cell_type": "markdown",
   "id": "3464baf3",
   "metadata": {},
   "source": [
    "#### A. 계산된 데이터 확인 1 - matplot"
   ]
  },
  {
   "cell_type": "code",
   "execution_count": null,
   "id": "831b8959",
   "metadata": {
    "execution": {
     "iopub.execute_input": "2021-05-21T00:07:35.112451Z",
     "iopub.status.busy": "2021-05-21T00:07:35.112292Z",
     "iopub.status.idle": "2021-05-21T00:07:35.330504Z",
     "shell.execute_reply": "2021-05-21T00:07:35.329933Z",
     "shell.execute_reply.started": "2021-05-21T00:07:35.112430Z"
    }
   },
   "outputs": [],
   "source": [
    "tmp = gpd.GeoSeries(merged_gdf[:15]['coordinates_geo'])\n",
    "tmp.plot(figsize=(12,12))\n",
    "plt.show()"
   ]
  },
  {
   "cell_type": "markdown",
   "id": "b8741e69",
   "metadata": {},
   "source": [
    "#### B. 계산된 데이터 확인 2 - folium"
   ]
  },
  {
   "cell_type": "code",
   "execution_count": null,
   "id": "ecf201f2",
   "metadata": {
    "execution": {
     "iopub.execute_input": "2021-05-21T00:07:35.331484Z",
     "iopub.status.busy": "2021-05-21T00:07:35.331311Z",
     "iopub.status.idle": "2021-05-21T00:07:35.514810Z",
     "shell.execute_reply": "2021-05-21T00:07:35.514294Z",
     "shell.execute_reply.started": "2021-05-21T00:07:35.331461Z"
    }
   },
   "outputs": [],
   "source": [
    "m = folium.Map(zoom_start=17, location=[39.7213631342, -104.8953397997], tiles='CartoDB positron')\n",
    "\n",
    "for i, r in merged_gdf[:50].iterrows():    \n",
    "    sim_geo = gpd.GeoSeries(r['coordinates_geo']).simplify(tolerance=0.00001)\n",
    "    geo_j = sim_geo.to_json()\n",
    "    geo_j = folium.GeoJson(data=geo_j,\n",
    "                           style_function=lambda x: {'fillColor': 'orange'})\n",
    "    folium.Popup(f'idx({i})').add_to(geo_j)\n",
    "    geo_j.add_to(m)\n",
    "m"
   ]
  },
  {
   "cell_type": "markdown",
   "id": "31eb72c5",
   "metadata": {
    "execution": {
     "iopub.execute_input": "2021-05-20T22:06:23.802843Z",
     "iopub.status.busy": "2021-05-20T22:06:23.802632Z",
     "iopub.status.idle": "2021-05-20T22:06:23.805402Z",
     "shell.execute_reply": "2021-05-20T22:06:23.804885Z",
     "shell.execute_reply.started": "2021-05-20T22:06:23.802819Z"
    }
   },
   "source": [
    "### 4. csv 저장"
   ]
  },
  {
   "cell_type": "code",
   "execution_count": null,
   "id": "606fd1cb",
   "metadata": {
    "execution": {
     "iopub.execute_input": "2021-05-21T00:07:35.515816Z",
     "iopub.status.busy": "2021-05-21T00:07:35.515629Z",
     "iopub.status.idle": "2021-05-21T00:07:50.658306Z",
     "shell.execute_reply": "2021-05-21T00:07:50.657717Z",
     "shell.execute_reply.started": "2021-05-21T00:07:35.515793Z"
    }
   },
   "outputs": [],
   "source": [
    "merged_gdf.drop('coordinates', axis=1).to_csv(os.path.join(MERGED_PATH, 'Buildings.csv'),',', index=False)"
   ]
  },
  {
   "cell_type": "markdown",
   "id": "4fff3a8c",
   "metadata": {},
   "source": [
    "### 5. 저장된 파일 확인"
   ]
  },
  {
   "cell_type": "code",
   "execution_count": null,
   "id": "b757b464",
   "metadata": {
    "execution": {
     "iopub.execute_input": "2021-05-21T00:07:50.659180Z",
     "iopub.status.busy": "2021-05-21T00:07:50.659024Z",
     "iopub.status.idle": "2021-05-21T00:07:51.436549Z",
     "shell.execute_reply": "2021-05-21T00:07:51.435974Z",
     "shell.execute_reply.started": "2021-05-21T00:07:50.659159Z"
    },
    "tags": []
   },
   "outputs": [],
   "source": [
    "area_path = os.path.join(MERGED_PATH, 'Buildings.csv')\n",
    "df = pd.read_csv(area_path, encoding='utf-8')\n",
    "df.head(5)"
   ]
  },
  {
   "cell_type": "code",
   "execution_count": null,
   "id": "8565e366",
   "metadata": {
    "execution": {
     "iopub.execute_input": "2021-05-21T00:07:51.437400Z",
     "iopub.status.busy": "2021-05-21T00:07:51.437230Z",
     "iopub.status.idle": "2021-05-21T00:07:58.326604Z",
     "shell.execute_reply": "2021-05-21T00:07:58.326126Z",
     "shell.execute_reply.started": "2021-05-21T00:07:51.437378Z"
    },
    "tags": []
   },
   "outputs": [],
   "source": [
    "df['coordinates_pix'] = gpd.GeoSeries.from_wkt(df['coordinates_pix'])\n",
    "df['coordinates_geo'] = gpd.GeoSeries.from_wkt(df['coordinates_geo'])\n",
    "gdf = gpd.GeoDataFrame(df, geometry='coordinates_pix')\n",
    "gdf.tail(5)"
   ]
  },
  {
   "cell_type": "markdown",
   "id": "8290c4d6",
   "metadata": {},
   "source": [
    "## 5. Abstract Road Object\n",
    "---"
   ]
  },
  {
   "cell_type": "markdown",
   "id": "c60aef09",
   "metadata": {},
   "source": [
    "### 1. Road 추출"
   ]
  },
  {
   "cell_type": "code",
   "execution_count": null,
   "id": "c918d855",
   "metadata": {
    "execution": {
     "iopub.execute_input": "2021-05-21T00:07:58.327347Z",
     "iopub.status.busy": "2021-05-21T00:07:58.327193Z",
     "iopub.status.idle": "2021-05-21T00:07:58.330280Z",
     "shell.execute_reply": "2021-05-21T00:07:58.329804Z",
     "shell.execute_reply.started": "2021-05-21T00:07:58.327327Z"
    },
    "tags": []
   },
   "outputs": [],
   "source": [
    "def get_road_attributes(feature):\n",
    "    return {\n",
    "        'image_id': feature.properties.image_id.split('.')[0],\n",
    "        'type': \"road\",\n",
    "        'coordinates_pix': imcoords_to_wkt(feature.properties.road_imcoords),\n",
    "        'coordinates_geo': \"\"\n",
    "    }"
   ]
  },
  {
   "cell_type": "code",
   "execution_count": null,
   "id": "3ed009d8",
   "metadata": {
    "execution": {
     "iopub.execute_input": "2021-05-21T00:07:58.331176Z",
     "iopub.status.busy": "2021-05-21T00:07:58.331023Z",
     "iopub.status.idle": "2021-05-21T00:07:58.863113Z",
     "shell.execute_reply": "2021-05-21T00:07:58.862572Z",
     "shell.execute_reply.started": "2021-05-21T00:07:58.331155Z"
    },
    "tags": []
   },
   "outputs": [],
   "source": [
    "roads = [get_road_attributes(f) for fc in feature_collections \n",
    "             for f in fc.features \n",
    "             if f.properties.is_road()]\n",
    "roads = [r for r in roads if r['coordinates_pix']]\n",
    "print(len(roads))"
   ]
  },
  {
   "cell_type": "markdown",
   "id": "69c4a377",
   "metadata": {},
   "source": [
    "### 2. add site"
   ]
  },
  {
   "cell_type": "code",
   "execution_count": null,
   "id": "f4efcc84",
   "metadata": {
    "execution": {
     "iopub.execute_input": "2021-05-21T00:07:58.864021Z",
     "iopub.status.busy": "2021-05-21T00:07:58.863856Z",
     "iopub.status.idle": "2021-05-21T00:07:58.878492Z",
     "shell.execute_reply": "2021-05-21T00:07:58.878006Z",
     "shell.execute_reply.started": "2021-05-21T00:07:58.863999Z"
    },
    "tags": []
   },
   "outputs": [],
   "source": [
    "area_path = os.path.join(MERGED_PATH, 'Site.csv')\n",
    "site_df = pd.read_csv(area_path, encoding='utf-8')\n",
    "site_df.head(5)"
   ]
  },
  {
   "cell_type": "code",
   "execution_count": null,
   "id": "842df305",
   "metadata": {
    "execution": {
     "iopub.execute_input": "2021-05-21T00:07:58.879366Z",
     "iopub.status.busy": "2021-05-21T00:07:58.879204Z",
     "iopub.status.idle": "2021-05-21T00:07:58.905711Z",
     "shell.execute_reply": "2021-05-21T00:07:58.905119Z",
     "shell.execute_reply.started": "2021-05-21T00:07:58.879344Z"
    },
    "tags": []
   },
   "outputs": [],
   "source": [
    "road_df = pd.DataFrame(roads)\n",
    "road_df.head(5)"
   ]
  },
  {
   "cell_type": "code",
   "execution_count": null,
   "id": "6a2b57c9",
   "metadata": {
    "execution": {
     "iopub.execute_input": "2021-05-21T00:07:58.906596Z",
     "iopub.status.busy": "2021-05-21T00:07:58.906409Z",
     "iopub.status.idle": "2021-05-21T00:07:58.922249Z",
     "shell.execute_reply": "2021-05-21T00:07:58.921814Z",
     "shell.execute_reply.started": "2021-05-21T00:07:58.906573Z"
    }
   },
   "outputs": [],
   "source": [
    "merged = pd.merge(road_df, site_df, left_on=\"image_id\", right_on=\"image_id\", how=\"inner\")\n",
    "merged.head(5)"
   ]
  },
  {
   "cell_type": "code",
   "execution_count": null,
   "id": "e9234e8a",
   "metadata": {
    "execution": {
     "iopub.execute_input": "2021-05-21T00:07:58.923080Z",
     "iopub.status.busy": "2021-05-21T00:07:58.922920Z",
     "iopub.status.idle": "2021-05-21T00:07:58.926645Z",
     "shell.execute_reply": "2021-05-21T00:07:58.926094Z",
     "shell.execute_reply.started": "2021-05-21T00:07:58.923059Z"
    },
    "tags": []
   },
   "outputs": [],
   "source": [
    "len(road_df), len(merged)"
   ]
  },
  {
   "cell_type": "code",
   "execution_count": null,
   "id": "f301f137",
   "metadata": {
    "execution": {
     "iopub.execute_input": "2021-05-21T00:07:58.927515Z",
     "iopub.status.busy": "2021-05-21T00:07:58.927355Z",
     "iopub.status.idle": "2021-05-21T00:08:00.605810Z",
     "shell.execute_reply": "2021-05-21T00:08:00.605354Z",
     "shell.execute_reply.started": "2021-05-21T00:07:58.927494Z"
    }
   },
   "outputs": [],
   "source": [
    "merged['coordinates'] = gpd.GeoSeries.from_wkt(merged['coordinates'])\n",
    "merged['coordinates_pix'] = gpd.GeoSeries.from_wkt(merged['coordinates_pix'])\n",
    "merged_gdf = gpd.GeoDataFrame(merged, geometry='coordinates_pix')\n",
    "merged_gdf.head(5)"
   ]
  },
  {
   "cell_type": "markdown",
   "id": "951ca9dc",
   "metadata": {
    "execution": {
     "iopub.execute_input": "2021-05-20T23:14:52.844413Z",
     "iopub.status.busy": "2021-05-20T23:14:52.844212Z",
     "iopub.status.idle": "2021-05-20T23:14:52.846968Z",
     "shell.execute_reply": "2021-05-20T23:14:52.846356Z",
     "shell.execute_reply.started": "2021-05-20T23:14:52.844388Z"
    }
   },
   "source": [
    "### 3. coordinates_geo 계산"
   ]
  },
  {
   "cell_type": "code",
   "execution_count": null,
   "id": "63fd7e07",
   "metadata": {
    "execution": {
     "iopub.execute_input": "2021-05-21T00:08:00.606790Z",
     "iopub.status.busy": "2021-05-21T00:08:00.606577Z",
     "iopub.status.idle": "2021-05-21T00:08:06.561510Z",
     "shell.execute_reply": "2021-05-21T00:08:06.560906Z",
     "shell.execute_reply.started": "2021-05-21T00:08:00.606761Z"
    },
    "tags": []
   },
   "outputs": [],
   "source": [
    "merged_gdf['coordinates_geo'] = merged_gdf.apply(lambda x: pix_coor_to_real_coor(x.coordinates, x.coordinates_pix, 1024), axis='columns')\n",
    "merged_gdf.head(5)"
   ]
  },
  {
   "cell_type": "markdown",
   "id": "85cffbb5",
   "metadata": {
    "execution": {
     "iopub.execute_input": "2021-05-20T23:20:42.443805Z",
     "iopub.status.busy": "2021-05-20T23:20:42.443597Z",
     "iopub.status.idle": "2021-05-20T23:20:42.447229Z",
     "shell.execute_reply": "2021-05-20T23:20:42.446753Z",
     "shell.execute_reply.started": "2021-05-20T23:20:42.443779Z"
    },
    "tags": []
   },
   "source": [
    "#### A. 계산된 데이터 확인 1 - matplot"
   ]
  },
  {
   "cell_type": "code",
   "execution_count": null,
   "id": "0a7dda14",
   "metadata": {
    "execution": {
     "iopub.execute_input": "2021-05-21T00:08:06.562382Z",
     "iopub.status.busy": "2021-05-21T00:08:06.562225Z",
     "iopub.status.idle": "2021-05-21T00:08:06.740788Z",
     "shell.execute_reply": "2021-05-21T00:08:06.740168Z",
     "shell.execute_reply.started": "2021-05-21T00:08:06.562362Z"
    },
    "tags": []
   },
   "outputs": [],
   "source": [
    "tmp = gpd.GeoSeries(merged_gdf[:15]['coordinates_geo'])\n",
    "tmp.plot(figsize=(12,12))\n",
    "plt.show()"
   ]
  },
  {
   "cell_type": "markdown",
   "id": "b23c2d2c",
   "metadata": {},
   "source": [
    "#### B. 계산된 데이터 확인 2 - folium"
   ]
  },
  {
   "cell_type": "code",
   "execution_count": null,
   "id": "c8ded677",
   "metadata": {
    "execution": {
     "iopub.execute_input": "2021-05-21T00:08:06.741706Z",
     "iopub.status.busy": "2021-05-21T00:08:06.741541Z",
     "iopub.status.idle": "2021-05-21T00:08:06.925091Z",
     "shell.execute_reply": "2021-05-21T00:08:06.924510Z",
     "shell.execute_reply.started": "2021-05-21T00:08:06.741684Z"
    },
    "tags": []
   },
   "outputs": [],
   "source": [
    "m = folium.Map(zoom_start=17, location=[33.9516227282, -118.2718820291], tiles='cartodb positron')\n",
    "\n",
    "for i, r in merged_gdf[:50].iterrows():    \n",
    "    sim_geo = gpd.GeoSeries(r['coordinates_geo']).simplify(tolerance=0.00001)\n",
    "    geo_j = sim_geo.to_json()\n",
    "    geo_j = folium.GeoJson(data=geo_j,\n",
    "                           style_function=lambda x: {'fillColor': 'orange'})\n",
    "    folium.Popup(f'idx({i})').add_to(geo_j)\n",
    "    geo_j.add_to(m)\n",
    "m"
   ]
  },
  {
   "cell_type": "markdown",
   "id": "dfc330f8",
   "metadata": {},
   "source": [
    "### 4. csv 저장"
   ]
  },
  {
   "cell_type": "code",
   "execution_count": null,
   "id": "9995c9f5",
   "metadata": {
    "execution": {
     "iopub.execute_input": "2021-05-21T00:08:06.926041Z",
     "iopub.status.busy": "2021-05-21T00:08:06.925837Z",
     "iopub.status.idle": "2021-05-21T00:08:09.969643Z",
     "shell.execute_reply": "2021-05-21T00:08:09.969074Z",
     "shell.execute_reply.started": "2021-05-21T00:08:06.926003Z"
    }
   },
   "outputs": [],
   "source": [
    "merged_gdf.drop('coordinates', axis=1).to_csv(os.path.join(MERGED_PATH, 'Roads.csv'),',', index=False)"
   ]
  },
  {
   "cell_type": "markdown",
   "id": "7286021b",
   "metadata": {},
   "source": [
    "### 5. 저장된 파일 확인"
   ]
  },
  {
   "cell_type": "code",
   "execution_count": null,
   "id": "85044a72",
   "metadata": {
    "execution": {
     "iopub.execute_input": "2021-05-21T00:08:09.970486Z",
     "iopub.status.busy": "2021-05-21T00:08:09.970331Z",
     "iopub.status.idle": "2021-05-21T00:08:10.130415Z",
     "shell.execute_reply": "2021-05-21T00:08:10.129870Z",
     "shell.execute_reply.started": "2021-05-21T00:08:09.970466Z"
    },
    "tags": []
   },
   "outputs": [],
   "source": [
    "road_path = os.path.join(MERGED_PATH, 'Roads.csv')\n",
    "df = pd.read_csv(road_path, encoding='utf-8')\n",
    "df.head(5)"
   ]
  },
  {
   "cell_type": "code",
   "execution_count": null,
   "id": "1a32c160",
   "metadata": {
    "execution": {
     "iopub.execute_input": "2021-05-21T00:08:10.131395Z",
     "iopub.status.busy": "2021-05-21T00:08:10.131210Z",
     "iopub.status.idle": "2021-05-21T00:08:11.464651Z",
     "shell.execute_reply": "2021-05-21T00:08:11.464130Z",
     "shell.execute_reply.started": "2021-05-21T00:08:10.131372Z"
    }
   },
   "outputs": [],
   "source": [
    "df['coordinates_pix'] = gpd.GeoSeries.from_wkt(df['coordinates_pix'])\n",
    "df['coordinates_geo'] = gpd.GeoSeries.from_wkt(df['coordinates_geo'])\n",
    "gdf = gpd.GeoDataFrame(df, geometry='coordinates_pix')\n",
    "gdf.tail(5)"
   ]
  },
  {
   "cell_type": "markdown",
   "id": "9faf796c",
   "metadata": {},
   "source": [
    "## ref\n",
    "- [An example of polygon plotting with folium](https://geopandas.org/gallery/polygon_plotting_with_folium.html)"
   ]
  }
 ],
 "metadata": {
  "kernelspec": {
   "display_name": "Python 3",
   "language": "python",
   "name": "python3"
  },
  "language_info": {
   "codemirror_mode": {
    "name": "ipython",
    "version": 3
   },
   "file_extension": ".py",
   "mimetype": "text/x-python",
   "name": "python",
   "nbconvert_exporter": "python",
   "pygments_lexer": "ipython3",
   "version": "3.7.7"
  }
 },
 "nbformat": 4,
 "nbformat_minor": 5
}
