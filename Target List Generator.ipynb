{
 "cells": [
  {
   "cell_type": "markdown",
   "id": "20c14ee4",
   "metadata": {},
   "source": [
    "# Target List Generator\n",
    "---"
   ]
  },
  {
   "cell_type": "markdown",
   "id": "921240be",
   "metadata": {},
   "source": [
    "### import file list"
   ]
  },
  {
   "cell_type": "code",
   "execution_count": 14,
   "id": "62196a52",
   "metadata": {
    "execution": {
     "iopub.execute_input": "2021-06-01T05:02:49.552586Z",
     "iopub.status.busy": "2021-06-01T05:02:49.551948Z",
     "iopub.status.idle": "2021-06-01T05:02:49.560252Z",
     "shell.execute_reply": "2021-06-01T05:02:49.558153Z",
     "shell.execute_reply.started": "2021-06-01T05:02:49.552505Z"
    },
    "tags": []
   },
   "outputs": [],
   "source": [
    "import os\n",
    "import glob"
   ]
  },
  {
   "cell_type": "code",
   "execution_count": 21,
   "id": "f9b5186b",
   "metadata": {
    "execution": {
     "iopub.execute_input": "2021-06-01T05:09:50.250018Z",
     "iopub.status.busy": "2021-06-01T05:09:50.249512Z",
     "iopub.status.idle": "2021-06-01T05:09:50.258048Z",
     "shell.execute_reply": "2021-06-01T05:09:50.257351Z",
     "shell.execute_reply.started": "2021-06-01T05:09:50.249950Z"
    },
    "tags": []
   },
   "outputs": [],
   "source": [
    "BASE_PATH = os.path.join(os.getenv('HOME'), 'workspace/Hackerton') # project folder\n",
    "DATA_PATH = os.path.join(BASE_PATH, 'RSI_OP_NIA_AIHUB') # data folder\n",
    "\n",
    "BUILDINGS_TRAIN_LABEL_PATH = os.path.join(DATA_PATH, 'buildings/training/raw')\n",
    "BUILDINGS_TEST_LABEL_PATH = os.path.join(DATA_PATH, 'buildings/validation/raw')\n",
    "ROADS_TRAIN_LABEL_PATH = os.path.join(DATA_PATH, 'roads/training/raw')\n",
    "ROADS_TEST_LABEL_PATH = os.path.join(DATA_PATH, 'roads/validation/raw')"
   ]
  },
  {
   "cell_type": "code",
   "execution_count": 22,
   "id": "402cf4d4",
   "metadata": {
    "execution": {
     "iopub.execute_input": "2021-06-01T05:09:50.562190Z",
     "iopub.status.busy": "2021-06-01T05:09:50.561986Z",
     "iopub.status.idle": "2021-06-01T05:09:50.564917Z",
     "shell.execute_reply": "2021-06-01T05:09:50.564462Z",
     "shell.execute_reply.started": "2021-06-01T05:09:50.562166Z"
    },
    "tags": []
   },
   "outputs": [],
   "source": [
    "buildings_train_label_pattern = BUILDINGS_TRAIN_LABEL_PATH + r\"/*.png\"\n",
    "buildings_test_label_pattern = BUILDINGS_TEST_LABEL_PATH + r\"/*.png\"\n",
    "roads_train_label_pattern = ROADS_TRAIN_LABEL_PATH + r\"/*.png\"\n",
    "roads_test_label_pattern = ROADS_TEST_LABEL_PATH + r\"/*.png\""
   ]
  },
  {
   "cell_type": "code",
   "execution_count": 23,
   "id": "54e6e0ab",
   "metadata": {
    "execution": {
     "iopub.execute_input": "2021-06-01T05:09:50.799120Z",
     "iopub.status.busy": "2021-06-01T05:09:50.798930Z",
     "iopub.status.idle": "2021-06-01T05:09:50.815867Z",
     "shell.execute_reply": "2021-06-01T05:09:50.815199Z",
     "shell.execute_reply.started": "2021-06-01T05:09:50.799097Z"
    },
    "tags": []
   },
   "outputs": [
    {
     "name": "stdout",
     "output_type": "stream",
     "text": [
      "len(buildings_train_label_paths) : 1239\n",
      "len(buildings_val_label_paths) : 159\n",
      "len(roads_train_label_paths) : 1144\n",
      "len(roads_val_label_paths) : 127\n"
     ]
    }
   ],
   "source": [
    "buildings_train_label_paths = glob.glob(buildings_train_label_pattern)\n",
    "buildings_test_label_paths = glob.glob(buildings_test_label_pattern)\n",
    "roads_train_label_paths = glob.glob(roads_train_label_pattern)\n",
    "roads_test_label_paths = glob.glob(roads_test_label_pattern)\n",
    "\n",
    "print(f'len(buildings_train_label_paths) : {len(buildings_train_label_paths)}')\n",
    "print(f'len(buildings_val_label_paths) : {len(buildings_test_label_paths)}')\n",
    "print(f'len(roads_train_label_paths) : {len(roads_train_label_paths)}')\n",
    "print(f'len(roads_val_label_paths) : {len(roads_test_label_paths)}')"
   ]
  },
  {
   "cell_type": "code",
   "execution_count": 24,
   "id": "7e8e55f5",
   "metadata": {
    "execution": {
     "iopub.execute_input": "2021-06-01T05:09:52.888739Z",
     "iopub.status.busy": "2021-06-01T05:09:52.888105Z",
     "iopub.status.idle": "2021-06-01T05:09:52.900634Z",
     "shell.execute_reply": "2021-06-01T05:09:52.899201Z",
     "shell.execute_reply.started": "2021-06-01T05:09:52.888658Z"
    },
    "tags": []
   },
   "outputs": [
    {
     "data": {
      "text/plain": [
       "['/home/aiffel-dj1/workspace/Hackerton/RSI_OP_NIA_AIHUB/buildings/training/raw/BLD09126_PS3_K3A_NIA0386.png',\n",
       " '/home/aiffel-dj1/workspace/Hackerton/RSI_OP_NIA_AIHUB/buildings/training/raw/BLD03548_PS3_K3A_NIA0376.png',\n",
       " '/home/aiffel-dj1/workspace/Hackerton/RSI_OP_NIA_AIHUB/buildings/training/raw/BLD02378_PS3_K3A_NIA0374.png',\n",
       " '/home/aiffel-dj1/workspace/Hackerton/RSI_OP_NIA_AIHUB/buildings/training/raw/BLD00299_PS3_K3A_NIA0276.png',\n",
       " '/home/aiffel-dj1/workspace/Hackerton/RSI_OP_NIA_AIHUB/buildings/training/raw/BLD00085_PS3_K3A_NIA0276.png']"
      ]
     },
     "execution_count": 24,
     "metadata": {},
     "output_type": "execute_result"
    }
   ],
   "source": [
    "buildings_train_label_paths[:5]"
   ]
  },
  {
   "cell_type": "markdown",
   "id": "8b553e8f",
   "metadata": {},
   "source": [
    "### split training and validation set"
   ]
  },
  {
   "cell_type": "code",
   "execution_count": 36,
   "id": "ceae513c",
   "metadata": {
    "execution": {
     "iopub.execute_input": "2021-06-01T05:22:55.475973Z",
     "iopub.status.busy": "2021-06-01T05:22:55.475618Z",
     "iopub.status.idle": "2021-06-01T05:22:55.484027Z",
     "shell.execute_reply": "2021-06-01T05:22:55.483185Z",
     "shell.execute_reply.started": "2021-06-01T05:22:55.475930Z"
    },
    "tags": []
   },
   "outputs": [
    {
     "name": "stdout",
     "output_type": "stream",
     "text": [
      "1089 150 159\n"
     ]
    }
   ],
   "source": [
    "from sklearn.model_selection import train_test_split\n",
    "\n",
    "SEED = 2021\n",
    "building_train, building_val = train_test_split(buildings_train_label_paths, test_size=150, shuffle=True, random_state=SEED)\n",
    "print(len(building_train), len(building_val), len(buildings_test_label_paths))"
   ]
  },
  {
   "cell_type": "code",
   "execution_count": 37,
   "id": "54fd1d0b",
   "metadata": {
    "execution": {
     "iopub.execute_input": "2021-06-01T05:25:59.601832Z",
     "iopub.status.busy": "2021-06-01T05:25:59.600954Z",
     "iopub.status.idle": "2021-06-01T05:25:59.613349Z",
     "shell.execute_reply": "2021-06-01T05:25:59.612593Z",
     "shell.execute_reply.started": "2021-06-01T05:25:59.601719Z"
    },
    "tags": []
   },
   "outputs": [
    {
     "name": "stdout",
     "output_type": "stream",
     "text": [
      "1024 120 127\n"
     ]
    }
   ],
   "source": [
    "road_train, road_val = train_test_split(roads_train_label_paths, test_size=120, shuffle=True, random_state=SEED)\n",
    "print(len(road_train), len(road_val), len(roads_test_label_paths))"
   ]
  },
  {
   "cell_type": "markdown",
   "id": "bd8be87a",
   "metadata": {},
   "source": [
    "### save list"
   ]
  },
  {
   "cell_type": "markdown",
   "id": "6bc47d38",
   "metadata": {
    "execution": {
     "iopub.execute_input": "2021-06-01T05:15:49.384695Z",
     "iopub.status.busy": "2021-06-01T05:15:49.384453Z",
     "iopub.status.idle": "2021-06-01T05:15:49.387701Z",
     "shell.execute_reply": "2021-06-01T05:15:49.387033Z",
     "shell.execute_reply.started": "2021-06-01T05:15:49.384668Z"
    }
   },
   "source": [
    "#### building"
   ]
  },
  {
   "cell_type": "code",
   "execution_count": 29,
   "id": "26b53f90",
   "metadata": {
    "execution": {
     "iopub.execute_input": "2021-06-01T05:16:23.115090Z",
     "iopub.status.busy": "2021-06-01T05:16:23.114863Z",
     "iopub.status.idle": "2021-06-01T05:16:23.120417Z",
     "shell.execute_reply": "2021-06-01T05:16:23.119916Z",
     "shell.execute_reply.started": "2021-06-01T05:16:23.115061Z"
    },
    "tags": []
   },
   "outputs": [],
   "source": [
    "with open(os.path.join(DATA_PATH, 'B_train_list.txt'), 'w', encoding='UTF-8') as f:\n",
    "    lines = [path.split('/')[-1] for path in building_train]\n",
    "    lines.sort()\n",
    "    f.write(lines[0])\n",
    "    \n",
    "    for line in lines[1:]:\n",
    "        f.write('\\n' + line)"
   ]
  },
  {
   "cell_type": "code",
   "execution_count": 30,
   "id": "900727fe",
   "metadata": {
    "execution": {
     "iopub.execute_input": "2021-06-01T05:16:23.405323Z",
     "iopub.status.busy": "2021-06-01T05:16:23.405135Z",
     "iopub.status.idle": "2021-06-01T05:16:23.409299Z",
     "shell.execute_reply": "2021-06-01T05:16:23.408782Z",
     "shell.execute_reply.started": "2021-06-01T05:16:23.405302Z"
    },
    "tags": []
   },
   "outputs": [],
   "source": [
    "with open(os.path.join(DATA_PATH, 'B_val_list.txt'), 'w', encoding='UTF-8') as f:\n",
    "    lines = [path.split('/')[-1] for path in building_val]\n",
    "    lines.sort()\n",
    "    f.write(lines[0])\n",
    "    \n",
    "    for line in lines[1:]:\n",
    "        f.write('\\n' + line)"
   ]
  },
  {
   "cell_type": "code",
   "execution_count": 31,
   "id": "2a455436",
   "metadata": {
    "execution": {
     "iopub.execute_input": "2021-06-01T05:16:23.724765Z",
     "iopub.status.busy": "2021-06-01T05:16:23.724569Z",
     "iopub.status.idle": "2021-06-01T05:16:23.728604Z",
     "shell.execute_reply": "2021-06-01T05:16:23.728015Z",
     "shell.execute_reply.started": "2021-06-01T05:16:23.724741Z"
    }
   },
   "outputs": [],
   "source": [
    "with open(os.path.join(DATA_PATH, 'B_test_list.txt'), 'w', encoding='UTF-8') as f:\n",
    "    lines = [path.split('/')[-1] for path in buildings_test_label_paths]\n",
    "    lines.sort()\n",
    "    f.write(lines[0])\n",
    "    \n",
    "    for line in lines[1:]:\n",
    "        f.write('\\n' + line)"
   ]
  },
  {
   "cell_type": "markdown",
   "id": "9d0e399c",
   "metadata": {},
   "source": [
    "#### road"
   ]
  },
  {
   "cell_type": "code",
   "execution_count": 32,
   "id": "00fd9b4d",
   "metadata": {
    "execution": {
     "iopub.execute_input": "2021-06-01T05:17:45.012844Z",
     "iopub.status.busy": "2021-06-01T05:17:45.012208Z",
     "iopub.status.idle": "2021-06-01T05:17:45.020226Z",
     "shell.execute_reply": "2021-06-01T05:17:45.019606Z",
     "shell.execute_reply.started": "2021-06-01T05:17:45.012766Z"
    },
    "tags": []
   },
   "outputs": [],
   "source": [
    "with open(os.path.join(DATA_PATH, 'R_train_list.txt'), 'w', encoding='UTF-8') as f:\n",
    "    lines = [path.split('/')[-1] for path in road_train]\n",
    "    lines.sort()\n",
    "    f.write(lines[0])\n",
    "    \n",
    "    for line in lines[1:]:\n",
    "        f.write('\\n' + line)"
   ]
  },
  {
   "cell_type": "code",
   "execution_count": 33,
   "id": "c8471967",
   "metadata": {
    "execution": {
     "iopub.execute_input": "2021-06-01T05:17:45.162533Z",
     "iopub.status.busy": "2021-06-01T05:17:45.162345Z",
     "iopub.status.idle": "2021-06-01T05:17:45.166747Z",
     "shell.execute_reply": "2021-06-01T05:17:45.166074Z",
     "shell.execute_reply.started": "2021-06-01T05:17:45.162511Z"
    },
    "tags": []
   },
   "outputs": [],
   "source": [
    "with open(os.path.join(DATA_PATH, 'R_val_list.txt'), 'w', encoding='UTF-8') as f:\n",
    "    lines = [path.split('/')[-1] for path in road_val]\n",
    "    lines.sort()\n",
    "    f.write(lines[0])\n",
    "    \n",
    "    for line in lines[1:]:\n",
    "        f.write('\\n' + line)"
   ]
  },
  {
   "cell_type": "code",
   "execution_count": 34,
   "id": "4504d905",
   "metadata": {
    "execution": {
     "iopub.execute_input": "2021-06-01T05:17:45.363212Z",
     "iopub.status.busy": "2021-06-01T05:17:45.362930Z",
     "iopub.status.idle": "2021-06-01T05:17:45.367553Z",
     "shell.execute_reply": "2021-06-01T05:17:45.366861Z",
     "shell.execute_reply.started": "2021-06-01T05:17:45.363176Z"
    }
   },
   "outputs": [],
   "source": [
    "with open(os.path.join(DATA_PATH, 'R_test_list.txt'), 'w', encoding='UTF-8') as f:\n",
    "    lines = [path.split('/')[-1] for path in roads_test_label_paths]\n",
    "    lines.sort()\n",
    "    f.write(lines[0])\n",
    "    \n",
    "    for line in lines[1:]:\n",
    "        f.write('\\n' + line)"
   ]
  }
 ],
 "metadata": {
  "kernelspec": {
   "display_name": "Python 3",
   "language": "python",
   "name": "python3"
  },
  "language_info": {
   "codemirror_mode": {
    "name": "ipython",
    "version": 3
   },
   "file_extension": ".py",
   "mimetype": "text/x-python",
   "name": "python",
   "nbconvert_exporter": "python",
   "pygments_lexer": "ipython3",
   "version": "3.7.10"
  }
 },
 "nbformat": 4,
 "nbformat_minor": 5
}
