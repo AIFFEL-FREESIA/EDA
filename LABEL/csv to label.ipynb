{
 "cells": [
  {
   "cell_type": "markdown",
   "id": "030db569",
   "metadata": {},
   "source": [
    "# CSV to Label image\n",
    "---"
   ]
  },
  {
   "cell_type": "markdown",
   "id": "cb0c573b",
   "metadata": {},
   "source": [
    "csv 파일(summary)와 생성 대상 목록을 읽어 지정된 위치에 라벨을 생성한다."
   ]
  },
  {
   "cell_type": "code",
   "execution_count": 49,
   "id": "50e78422",
   "metadata": {
    "execution": {
     "iopub.execute_input": "2021-05-23T22:20:35.152361Z",
     "iopub.status.busy": "2021-05-23T22:20:35.152142Z",
     "iopub.status.idle": "2021-05-23T22:20:35.155663Z",
     "shell.execute_reply": "2021-05-23T22:20:35.155050Z",
     "shell.execute_reply.started": "2021-05-23T22:20:35.152335Z"
    },
    "tags": []
   },
   "outputs": [],
   "source": [
    "import os \n",
    "import pandas as pd\n",
    "import cv2\n",
    "import numpy as np\n",
    "import re"
   ]
  },
  {
   "cell_type": "code",
   "execution_count": 118,
   "id": "48800006",
   "metadata": {
    "execution": {
     "iopub.execute_input": "2021-05-23T23:06:58.006460Z",
     "iopub.status.busy": "2021-05-23T23:06:58.005808Z",
     "iopub.status.idle": "2021-05-23T23:06:58.015282Z",
     "shell.execute_reply": "2021-05-23T23:06:58.014320Z",
     "shell.execute_reply.started": "2021-05-23T23:06:58.006380Z"
    },
    "tags": []
   },
   "outputs": [
    {
     "name": "stdout",
     "output_type": "stream",
     "text": [
      "/home/aiffel-dj1/workspace/Hackerton/RSI_OP_NIA_AIHUB/merged/Buildings.csv\n",
      "/home/aiffel-dj1/workspace/Hackerton/RSI_OP_NIA_AIHUB/B_train_list.txt\n",
      "/home/aiffel-dj1/workspace/Hackerton/RSI_OP_NIA_AIHUB/buildings/training/label\n"
     ]
    }
   ],
   "source": [
    "print(SUMMARY_PATH)\n",
    "print(LIST_PATH)\n",
    "print(SAVE_PATH)"
   ]
  },
  {
   "cell_type": "code",
   "execution_count": 82,
   "id": "f9577c5c",
   "metadata": {
    "execution": {
     "iopub.execute_input": "2021-05-23T22:32:57.460721Z",
     "iopub.status.busy": "2021-05-23T22:32:57.460043Z",
     "iopub.status.idle": "2021-05-23T22:32:57.473907Z",
     "shell.execute_reply": "2021-05-23T22:32:57.472113Z",
     "shell.execute_reply.started": "2021-05-23T22:32:57.460638Z"
    },
    "tags": []
   },
   "outputs": [],
   "source": [
    "SUMMARY_PATH = os.path.join(os.getenv('HOME'), 'workspace/Hackerton/RSI_OP_NIA_AIHUB/merged/Buildings.csv')\n",
    "LIST_PATH = os.path.join(os.getenv('HOME'), 'workspace/Hackerton/RSI_OP_NIA_AIHUB/B_train_list.txt')\n",
    "SAVE_PATH = os.path.join(os.getenv('HOME'), 'workspace/Hackerton/RSI_OP_NIA_AIHUB/buildings/training/label')\n",
    "IMG_WIDTH = 1024\n",
    "IMG_HEIGHT = 1024\n",
    "CLASSES = {\n",
    "    'building' : 0,\n",
    "    'road' : 1\n",
    "    \n",
    "}\n",
    "\n",
    "_color_map = [\n",
    "    (165, 42, 42),\n",
    "    (0, 192, 0),\n",
    "    (255,255,255)\n",
    "]"
   ]
  },
  {
   "cell_type": "code",
   "execution_count": 9,
   "id": "86562e03",
   "metadata": {
    "execution": {
     "iopub.execute_input": "2021-05-23T21:00:24.985081Z",
     "iopub.status.busy": "2021-05-23T21:00:24.984190Z",
     "iopub.status.idle": "2021-05-23T21:00:25.686346Z",
     "shell.execute_reply": "2021-05-23T21:00:25.685768Z",
     "shell.execute_reply.started": "2021-05-23T21:00:24.984969Z"
    },
    "tags": []
   },
   "outputs": [
    {
     "data": {
      "text/html": [
       "<div>\n",
       "<style scoped>\n",
       "    .dataframe tbody tr th:only-of-type {\n",
       "        vertical-align: middle;\n",
       "    }\n",
       "\n",
       "    .dataframe tbody tr th {\n",
       "        vertical-align: top;\n",
       "    }\n",
       "\n",
       "    .dataframe thead th {\n",
       "        text-align: right;\n",
       "    }\n",
       "</style>\n",
       "<table border=\"1\" class=\"dataframe\">\n",
       "  <thead>\n",
       "    <tr style=\"text-align: right;\">\n",
       "      <th></th>\n",
       "      <th>image_id</th>\n",
       "      <th>type</th>\n",
       "      <th>coordinates_pix</th>\n",
       "      <th>coordinates_geo</th>\n",
       "    </tr>\n",
       "  </thead>\n",
       "  <tbody>\n",
       "    <tr>\n",
       "      <th>0</th>\n",
       "      <td>OBJ00875_PS3_K3_NIA0089</td>\n",
       "      <td>building</td>\n",
       "      <td>POLYGON ((0 149, 0 91, 36 66, 43 74, 49 70, 77...</td>\n",
       "      <td>POLYGON ((-104.8997128936 39.72242979929785, -...</td>\n",
       "    </tr>\n",
       "    <tr>\n",
       "      <th>1</th>\n",
       "      <td>OBJ00875_PS3_K3_NIA0089</td>\n",
       "      <td>building</td>\n",
       "      <td>POLYGON ((126 110, 176 176, 203 155, 159 95, 1...</td>\n",
       "      <td>POLYGON ((-104.8986826105615 39.72267606503399...</td>\n",
       "    </tr>\n",
       "    <tr>\n",
       "      <th>2</th>\n",
       "      <td>OBJ00875_PS3_K3_NIA0089</td>\n",
       "      <td>building</td>\n",
       "      <td>POLYGON ((117 72, 137 98, 182 66, 162 39, 117 ...</td>\n",
       "      <td>POLYGON ((-104.8987562022071 39.72291601626406...</td>\n",
       "    </tr>\n",
       "    <tr>\n",
       "      <th>3</th>\n",
       "      <td>OBJ00875_PS3_K3_NIA0089</td>\n",
       "      <td>building</td>\n",
       "      <td>POLYGON ((185 6, 257 105, 286 83, 222 0, 191 0...</td>\n",
       "      <td>POLYGON ((-104.8982001764403 39.72333277366367...</td>\n",
       "    </tr>\n",
       "    <tr>\n",
       "      <th>4</th>\n",
       "      <td>OBJ00875_PS3_K3_NIA0089</td>\n",
       "      <td>building</td>\n",
       "      <td>POLYGON ((189 179, 207 203, 253 169, 235 145, ...</td>\n",
       "      <td>POLYGON ((-104.8981674690423 39.72224036411621...</td>\n",
       "    </tr>\n",
       "    <tr>\n",
       "      <th>5</th>\n",
       "      <td>OBJ00875_PS3_K3_NIA0089</td>\n",
       "      <td>building</td>\n",
       "      <td>POLYGON ((219 225, 229 240, 269 212, 261 202, ...</td>\n",
       "      <td>POLYGON ((-104.8979221635569 39.72194989683769...</td>\n",
       "    </tr>\n",
       "    <tr>\n",
       "      <th>6</th>\n",
       "      <td>OBJ00875_PS3_K3_NIA0089</td>\n",
       "      <td>building</td>\n",
       "      <td>POLYGON ((235 243, 251 266, 269 251, 269 245, ...</td>\n",
       "      <td>POLYGON ((-104.8977913339647 39.72183623572871...</td>\n",
       "    </tr>\n",
       "    <tr>\n",
       "      <th>7</th>\n",
       "      <td>OBJ00875_PS3_K3_NIA0089</td>\n",
       "      <td>building</td>\n",
       "      <td>POLYGON ((0 344, 5 350, 15 345, 32 371, 25 374...</td>\n",
       "      <td>POLYGON ((-104.8997128936 39.72119847061719, -...</td>\n",
       "    </tr>\n",
       "    <tr>\n",
       "      <th>8</th>\n",
       "      <td>OBJ00875_PS3_K3_NIA0089</td>\n",
       "      <td>building</td>\n",
       "      <td>POLYGON ((0 441, 6 435, 22 456, 0 478, 0 441))</td>\n",
       "      <td>POLYGON ((-104.8997128936 39.72058596352989, -...</td>\n",
       "    </tr>\n",
       "    <tr>\n",
       "      <th>9</th>\n",
       "      <td>OBJ00875_PS3_K3_NIA0089</td>\n",
       "      <td>building</td>\n",
       "      <td>POLYGON ((10 431, 26 450, 80 411, 72 400, 25 4...</td>\n",
       "      <td>POLYGON ((-104.8996311251049 39.72064910859043...</td>\n",
       "    </tr>\n",
       "  </tbody>\n",
       "</table>\n",
       "</div>"
      ],
      "text/plain": [
       "                  image_id      type  \\\n",
       "0  OBJ00875_PS3_K3_NIA0089  building   \n",
       "1  OBJ00875_PS3_K3_NIA0089  building   \n",
       "2  OBJ00875_PS3_K3_NIA0089  building   \n",
       "3  OBJ00875_PS3_K3_NIA0089  building   \n",
       "4  OBJ00875_PS3_K3_NIA0089  building   \n",
       "5  OBJ00875_PS3_K3_NIA0089  building   \n",
       "6  OBJ00875_PS3_K3_NIA0089  building   \n",
       "7  OBJ00875_PS3_K3_NIA0089  building   \n",
       "8  OBJ00875_PS3_K3_NIA0089  building   \n",
       "9  OBJ00875_PS3_K3_NIA0089  building   \n",
       "\n",
       "                                     coordinates_pix  \\\n",
       "0  POLYGON ((0 149, 0 91, 36 66, 43 74, 49 70, 77...   \n",
       "1  POLYGON ((126 110, 176 176, 203 155, 159 95, 1...   \n",
       "2  POLYGON ((117 72, 137 98, 182 66, 162 39, 117 ...   \n",
       "3  POLYGON ((185 6, 257 105, 286 83, 222 0, 191 0...   \n",
       "4  POLYGON ((189 179, 207 203, 253 169, 235 145, ...   \n",
       "5  POLYGON ((219 225, 229 240, 269 212, 261 202, ...   \n",
       "6  POLYGON ((235 243, 251 266, 269 251, 269 245, ...   \n",
       "7  POLYGON ((0 344, 5 350, 15 345, 32 371, 25 374...   \n",
       "8     POLYGON ((0 441, 6 435, 22 456, 0 478, 0 441))   \n",
       "9  POLYGON ((10 431, 26 450, 80 411, 72 400, 25 4...   \n",
       "\n",
       "                                     coordinates_geo  \n",
       "0  POLYGON ((-104.8997128936 39.72242979929785, -...  \n",
       "1  POLYGON ((-104.8986826105615 39.72267606503399...  \n",
       "2  POLYGON ((-104.8987562022071 39.72291601626406...  \n",
       "3  POLYGON ((-104.8982001764403 39.72333277366367...  \n",
       "4  POLYGON ((-104.8981674690423 39.72224036411621...  \n",
       "5  POLYGON ((-104.8979221635569 39.72194989683769...  \n",
       "6  POLYGON ((-104.8977913339647 39.72183623572871...  \n",
       "7  POLYGON ((-104.8997128936 39.72119847061719, -...  \n",
       "8  POLYGON ((-104.8997128936 39.72058596352989, -...  \n",
       "9  POLYGON ((-104.8996311251049 39.72064910859043...  "
      ]
     },
     "execution_count": 9,
     "metadata": {},
     "output_type": "execute_result"
    }
   ],
   "source": [
    "df = pd.read_csv(SUMMARY_PATH)\n",
    "df.head(10)"
   ]
  },
  {
   "cell_type": "code",
   "execution_count": 17,
   "id": "e39507e9",
   "metadata": {
    "execution": {
     "iopub.execute_input": "2021-05-23T21:05:24.970243Z",
     "iopub.status.busy": "2021-05-23T21:05:24.969656Z",
     "iopub.status.idle": "2021-05-23T21:05:24.984629Z",
     "shell.execute_reply": "2021-05-23T21:05:24.983666Z",
     "shell.execute_reply.started": "2021-05-23T21:05:24.970171Z"
    },
    "tags": []
   },
   "outputs": [
    {
     "data": {
      "text/plain": [
       "['BLD00001_PS3_K3A_NIA0276',\n",
       " 'BLD00002_PS3_K3A_NIA0276',\n",
       " 'BLD00004_PS3_K3A_NIA0276',\n",
       " 'BLD00006_PS3_K3A_NIA0276',\n",
       " 'BLD00008_PS3_K3A_NIA0276']"
      ]
     },
     "execution_count": 17,
     "metadata": {},
     "output_type": "execute_result"
    }
   ],
   "source": [
    "target_list = []\n",
    "\n",
    "try:\n",
    "    with open(LIST_PATH, 'r') as f:\n",
    "        target_list = f.readlines()\n",
    "except IOError:\n",
    "    print(\"Error: File does not appear to exist.\")\n",
    "\n",
    "\n",
    "target_list = [file.split('.')[0] for file in target_list]\n",
    "target_list[:5]"
   ]
  },
  {
   "cell_type": "code",
   "execution_count": 110,
   "id": "05b889d1",
   "metadata": {
    "execution": {
     "iopub.execute_input": "2021-05-23T22:42:32.813900Z",
     "iopub.status.busy": "2021-05-23T22:42:32.813662Z",
     "iopub.status.idle": "2021-05-23T22:42:32.817624Z",
     "shell.execute_reply": "2021-05-23T22:42:32.817006Z",
     "shell.execute_reply.started": "2021-05-23T22:42:32.813870Z"
    },
    "tags": []
   },
   "outputs": [],
   "source": [
    "def wkt_to_list(s):\n",
    "    nums = re.findall(r'\\d+(?:\\.\\d*)?', s)\n",
    "    nums = [round(float(p)) for p in nums]\n",
    "    coords = zip(*[iter(nums)] * 2)\n",
    "    return np.array(list(coords), np.int32)"
   ]
  },
  {
   "cell_type": "code",
   "execution_count": 114,
   "id": "458de157",
   "metadata": {
    "execution": {
     "iopub.execute_input": "2021-05-23T22:43:30.062376Z",
     "iopub.status.busy": "2021-05-23T22:43:30.061920Z",
     "iopub.status.idle": "2021-05-23T22:43:32.754605Z",
     "shell.execute_reply": "2021-05-23T22:43:32.754063Z",
     "shell.execute_reply.started": "2021-05-23T22:43:30.062322Z"
    },
    "tags": []
   },
   "outputs": [],
   "source": [
    "for image_id in target_list[:1]:\n",
    "    df_sub = df[df['image_id'] == image_id]\n",
    "    polygons = df_sub['coordinates_pix'].array\n",
    "    _type = df_sub['type'].array\n",
    "    \n",
    "    label = np.full((IMG_WIDTH, IMG_HEIGHT, 3), 255, np.uint8)\n",
    "    for polygon, _class in zip(polygons, _type):\n",
    "        coords = wkt_to_list(polygon)\n",
    "        label = cv2.fillPoly(bg, [coords], color=(165, 42, 42))\n",
    "        label = cv2.polylines(bg, [coords], True, color=(255,255,255), thickness=1)\n",
    "        \n",
    "        cv2.imwrite(f'{SAVE_PATH}/{image_id}.png', cv2.cvtColor(label, cv2.COLOR_BGR2RGB))"
   ]
  }
 ],
 "metadata": {
  "kernelspec": {
   "display_name": "Python 3",
   "language": "python",
   "name": "python3"
  },
  "language_info": {
   "codemirror_mode": {
    "name": "ipython",
    "version": 3
   },
   "file_extension": ".py",
   "mimetype": "text/x-python",
   "name": "python",
   "nbconvert_exporter": "python",
   "pygments_lexer": "ipython3",
   "version": "3.7.10"
  }
 },
 "nbformat": 4,
 "nbformat_minor": 5
}
